{
 "cells": [
  {
   "cell_type": "markdown",
   "id": "4e988837",
   "metadata": {},
   "source": [
    "### 객체 II\n",
    "- 상속 (inheritance)\n",
    "- 재사용할 때, A vs B\n",
    "    - \"A의 대부분을 쓰고, 나머지를 추가하거나 변경하고 싶다.\"\n",
    "    - 부모의 모든 속성을 그대로 가져와서 쓰겠다. (A가 부모 class)\n",
    "    - 반복되는 부분을 가져오겠다. 물려받겠다. \n",
    "- A <- B\n",
    "    - A는 \"부모, 슈퍼, 베이스 class\"\n",
    "    - B는 \"자식, 서브, derived class\"\n",
    "- 자식 클래스는 부모 클래스를 구체화한다.\n",
    "- is - a 관계 : Car is a Vehicle (포함된다.)"
   ]
  },
  {
   "cell_type": "code",
   "execution_count": 1,
   "id": "3ffb3516",
   "metadata": {},
   "outputs": [],
   "source": [
    "#parent\n",
    "class Vehicle:\n",
    "    def __init__(self, speed):\n",
    "        self.speed = speed\n",
    "    \n",
    "    def go(self):\n",
    "        print(f'{self.speed}의 속도로 달린다.')\n",
    "        \n",
    "#child \n",
    "class Car(Vehicle):\n",
    "    pass"
   ]
  },
  {
   "cell_type": "code",
   "execution_count": 2,
   "id": "1a97bd60",
   "metadata": {},
   "outputs": [],
   "source": [
    "car = Car('20km/h')"
   ]
  },
  {
   "cell_type": "code",
   "execution_count": 3,
   "id": "e6126c32",
   "metadata": {},
   "outputs": [
    {
     "name": "stdout",
     "output_type": "stream",
     "text": [
      "20km/h의 속도로 달린다.\n"
     ]
    }
   ],
   "source": [
    "car.go()"
   ]
  },
  {
   "cell_type": "markdown",
   "id": "61175ac1",
   "metadata": {},
   "source": [
    "### 변수 추가, 변경"
   ]
  },
  {
   "cell_type": "code",
   "execution_count": 4,
   "id": "014e0fb4",
   "metadata": {},
   "outputs": [],
   "source": [
    "class Car(Vehicle):\n",
    "    def __init__(self, speed, brand):\n",
    "        super().__init__(speed) #speed는 부모\n",
    "        self.brand = brand #brand는 자식, 나의 고유한 특성이 된다. "
   ]
  },
  {
   "cell_type": "code",
   "execution_count": 5,
   "id": "011e2a67",
   "metadata": {},
   "outputs": [
    {
     "data": {
      "text/plain": [
       "'kia'"
      ]
     },
     "execution_count": 5,
     "metadata": {},
     "output_type": "execute_result"
    }
   ],
   "source": [
    "car2 = Car('20km/h', 'kia')\n",
    "car2.brand"
   ]
  },
  {
   "cell_type": "code",
   "execution_count": 6,
   "id": "8c5ff2e3",
   "metadata": {},
   "outputs": [
    {
     "ename": "AttributeError",
     "evalue": "'Vehicle' object has no attribute 'brand'",
     "output_type": "error",
     "traceback": [
      "\u001b[1;31m---------------------------------------------------------------------------\u001b[0m",
      "\u001b[1;31mAttributeError\u001b[0m                            Traceback (most recent call last)",
      "\u001b[1;32m~\\AppData\\Local\\Temp/ipykernel_14580/1872025280.py\u001b[0m in \u001b[0;36m<module>\u001b[1;34m\u001b[0m\n\u001b[0;32m      1\u001b[0m \u001b[0mv\u001b[0m \u001b[1;33m=\u001b[0m \u001b[0mVehicle\u001b[0m\u001b[1;33m(\u001b[0m\u001b[1;34m'33km/h'\u001b[0m\u001b[1;33m)\u001b[0m\u001b[1;33m\u001b[0m\u001b[1;33m\u001b[0m\u001b[0m\n\u001b[1;32m----> 2\u001b[1;33m \u001b[0mv\u001b[0m\u001b[1;33m.\u001b[0m\u001b[0mbrand\u001b[0m \u001b[1;31m# 부모는 brand가 없다.\u001b[0m\u001b[1;33m\u001b[0m\u001b[1;33m\u001b[0m\u001b[0m\n\u001b[0m",
      "\u001b[1;31mAttributeError\u001b[0m: 'Vehicle' object has no attribute 'brand'"
     ]
    }
   ],
   "source": [
    "v = Vehicle('33km/h')\n",
    "v.brand # 부모는 brand가 없다. "
   ]
  },
  {
   "cell_type": "markdown",
   "id": "3d403840",
   "metadata": {},
   "source": [
    "### 메소드 추가, 변경 \n",
    "- override하면 부모의 메서드가 잊힌다."
   ]
  },
  {
   "cell_type": "code",
   "execution_count": 7,
   "id": "03879e2f",
   "metadata": {},
   "outputs": [],
   "source": [
    "class Vehicle:\n",
    "    def __init__(self, speed):\n",
    "        self.speed = speed\n",
    "    \n",
    "    def go(self):\n",
    "        print(f'{self.speed}의 속도로 달린다.')\n",
    "        \n",
    "class Car(Vehicle):\n",
    "    def __init__(self, speed, brand):\n",
    "        super().__init__(speed) #speed는 부모\n",
    "        self.brand = brand #brand는 자식, 나의 고유한 특성이 된다. \n",
    "        \n",
    "    def go(self): #override : 재정의\n",
    "        super().go() #부모의 것을 가져오기\n",
    "        print(f'차종{self.brand}의 속도 {self.speed}')\n",
    "    def stop():\n",
    "        pass"
   ]
  },
  {
   "cell_type": "code",
   "execution_count": 8,
   "id": "017fed5f",
   "metadata": {},
   "outputs": [
    {
     "name": "stdout",
     "output_type": "stream",
     "text": [
      "33km/h의 속도로 달린다.\n",
      "차종mini의 속도 33km/h\n"
     ]
    }
   ],
   "source": [
    "car3 = Car('33km/h', 'mini')\n",
    "car3.go()"
   ]
  },
  {
   "cell_type": "markdown",
   "id": "c6029edb",
   "metadata": {},
   "source": [
    "#### 실습 Quiz"
   ]
  },
  {
   "cell_type": "code",
   "execution_count": 16,
   "id": "53191872",
   "metadata": {},
   "outputs": [],
   "source": [
    "#내 답 \n",
    "class Person:\n",
    "    def __init__(self, name):\n",
    "        self.name = name\n",
    "        \n",
    "class Call_name (Person):\n",
    "    def __init__(self, name):\n",
    "        super().__init__(name)\n",
    "    def Dr_name(self):\n",
    "        print('Dr.', self.name)\n",
    "    def Mr_name(self):\n",
    "        print('Mr.', self.name)\n",
    "    def Mrs_name(self):\n",
    "        print('Mrs.', self.name)"
   ]
  },
  {
   "cell_type": "code",
   "execution_count": 17,
   "id": "13bf0357",
   "metadata": {},
   "outputs": [
    {
     "name": "stdout",
     "output_type": "stream",
     "text": [
      "Dr. Pablo\n"
     ]
    }
   ],
   "source": [
    "doc = Call_name('Pablo')\n",
    "doc.Dr_name()"
   ]
  },
  {
   "cell_type": "code",
   "execution_count": 18,
   "id": "6aae899f",
   "metadata": {},
   "outputs": [],
   "source": [
    "#모범답안 \n",
    "class Person:\n",
    "    def __init__(self, name):\n",
    "        self.name = name\n",
    "        \n",
    "class Doctor(Person):\n",
    "    def __init__(self, name):\n",
    "        super().__init__('Dr.' + name)\n",
    "class Mr(Person):\n",
    "    def __init__(self, name):\n",
    "        super().__init__('Mr.' + name)\n",
    "class Mrs(Person):\n",
    "    def __init__(self, name):\n",
    "        super().__init__('Mrs.' + name)"
   ]
  },
  {
   "cell_type": "code",
   "execution_count": 19,
   "id": "e0fb5e3a",
   "metadata": {},
   "outputs": [
    {
     "data": {
      "text/plain": [
       "'Mrs.Jessica'"
      ]
     },
     "execution_count": 19,
     "metadata": {},
     "output_type": "execute_result"
    }
   ],
   "source": [
    "Jessica = Mrs('Jessica')\n",
    "Jessica.name"
   ]
  },
  {
   "cell_type": "markdown",
   "id": "cefec56d",
   "metadata": {},
   "source": [
    "### 다중상속\n",
    "- method resolution order \n",
    "- 오버라이딩 했을 때 누구의 것을 상속받을 것인가\n",
    "- Animal <- Horse\n",
    "         <- Donkey\n",
    "                <- Mule (Donkey > Horse)\n",
    "                <- Hinny ( Hore > Donkey)"
   ]
  },
  {
   "cell_type": "code",
   "execution_count": 20,
   "id": "ca55acfd",
   "metadata": {},
   "outputs": [],
   "source": [
    "class Animal:\n",
    "    def says(self):\n",
    "        return '동물이 온다.'\n",
    "\n",
    "#자식\n",
    "class Horse(Animal):\n",
    "    def says(self):\n",
    "        return '히히힝'\n",
    "class Donkey(Animal):\n",
    "    def says(self):\n",
    "        return '히이호'\n",
    "    \n",
    "#손주\n",
    "class Mule(Donkey, Horse): #가까운 부모부터 써준다. \n",
    "    pass\n",
    "class Hinny(Horse, Donkey):\n",
    "    pass"
   ]
  },
  {
   "cell_type": "code",
   "execution_count": 21,
   "id": "01955e48",
   "metadata": {},
   "outputs": [
    {
     "data": {
      "text/plain": [
       "'히이호'"
      ]
     },
     "execution_count": 21,
     "metadata": {},
     "output_type": "execute_result"
    }
   ],
   "source": [
    "m = Mule()\n",
    "m.says()"
   ]
  },
  {
   "cell_type": "code",
   "execution_count": 22,
   "id": "da3d8141",
   "metadata": {},
   "outputs": [
    {
     "data": {
      "text/plain": [
       "'히히힝'"
      ]
     },
     "execution_count": 22,
     "metadata": {},
     "output_type": "execute_result"
    }
   ],
   "source": [
    "Hinny().says()"
   ]
  },
  {
   "cell_type": "code",
   "execution_count": 23,
   "id": "630ed7ec",
   "metadata": {},
   "outputs": [
    {
     "data": {
      "text/plain": [
       "[__main__.Mule, __main__.Donkey, __main__.Horse, __main__.Animal, object]"
      ]
     },
     "execution_count": 23,
     "metadata": {},
     "output_type": "execute_result"
    }
   ],
   "source": [
    "Mule.mro()"
   ]
  },
  {
   "cell_type": "markdown",
   "id": "5bd489cb",
   "metadata": {},
   "source": [
    "### 다형성\n",
    "- 형태가 다르지만 기능이 같음\n",
    "- 객체가 다른데도 같은 메소드를 가지고 있으면 같은 기능을 수행할 수 있음"
   ]
  },
  {
   "cell_type": "code",
   "execution_count": 25,
   "id": "56da89d9",
   "metadata": {},
   "outputs": [
    {
     "name": "stdout",
     "output_type": "stream",
     "text": [
      "히이호\n",
      "히이호\n",
      "동물이 온다.\n"
     ]
    }
   ],
   "source": [
    "for animal in [Mule(), Donkey(), Animal()]:\n",
    "    print(animal.says()) #says == 다형성을 드러냄"
   ]
  },
  {
   "cell_type": "markdown",
   "id": "27224d23",
   "metadata": {},
   "source": [
    "### 메서드 타입\n",
    "- 인스턴스 메서드\n",
    "    - self 가 1번 인자\n",
    "    - 객체 생성 -> 사용 가능 \n",
    "- 클래스 메서드\n",
    "    - 객체 생성하지 않아도 사용가능 \n",
    "    - 클래스에 접근하는 메서드\n",
    "    - @classmethod, cls\n",
    "    - 예약어 : cls\n",
    "    - 함수(cls)가 첫 인자\n",
    "    - class Person / cls == Person \n",
    "- 정적 메서드\n",
    "    - 객체 생성하지 않고 접근 가능 \n",
    "    - 클래스랑 상관이 없기 때문에 접근 가능함\n",
    "    - 내용, 기능이 비슷해서 클래스 내에 묶에 둠 \n",
    "    - self 사용 x -> 속성 보기 불가능\n",
    "- 추상 메서드 \n",
    "    - 추상 클래스 : abstract\n",
    "    - 이름만 존재하는 클래스\n",
    "    - 설계도 역할\n",
    "    - 상속하는 자식 클래스 -> 반드시 구현해야 하는 메소드를 정의한다. \n",
    "        - 재정의 해주지 않으면 오류를 출력함"
   ]
  },
  {
   "cell_type": "code",
   "execution_count": 26,
   "id": "524d2c63",
   "metadata": {},
   "outputs": [],
   "source": [
    "class A:\n",
    "    cnt = 0\n",
    "    \n",
    "    def move(self):\n",
    "        return cnt"
   ]
  },
  {
   "cell_type": "code",
   "execution_count": 27,
   "id": "c9a9ff04",
   "metadata": {},
   "outputs": [
    {
     "ename": "NameError",
     "evalue": "name 'cnt' is not defined",
     "output_type": "error",
     "traceback": [
      "\u001b[1;31m---------------------------------------------------------------------------\u001b[0m",
      "\u001b[1;31mNameError\u001b[0m                                 Traceback (most recent call last)",
      "\u001b[1;32m~\\AppData\\Local\\Temp/ipykernel_14580/3636466394.py\u001b[0m in \u001b[0;36m<module>\u001b[1;34m\u001b[0m\n\u001b[1;32m----> 1\u001b[1;33m \u001b[0mA\u001b[0m\u001b[1;33m(\u001b[0m\u001b[1;33m)\u001b[0m\u001b[1;33m.\u001b[0m\u001b[0mmove\u001b[0m\u001b[1;33m(\u001b[0m\u001b[1;33m)\u001b[0m \u001b[1;31m#오류가 남\u001b[0m\u001b[1;33m\u001b[0m\u001b[1;33m\u001b[0m\u001b[0m\n\u001b[0m",
      "\u001b[1;32m~\\AppData\\Local\\Temp/ipykernel_14580/2823682185.py\u001b[0m in \u001b[0;36mmove\u001b[1;34m(self)\u001b[0m\n\u001b[0;32m      3\u001b[0m \u001b[1;33m\u001b[0m\u001b[0m\n\u001b[0;32m      4\u001b[0m     \u001b[1;32mdef\u001b[0m \u001b[0mmove\u001b[0m\u001b[1;33m(\u001b[0m\u001b[0mself\u001b[0m\u001b[1;33m)\u001b[0m\u001b[1;33m:\u001b[0m\u001b[1;33m\u001b[0m\u001b[1;33m\u001b[0m\u001b[0m\n\u001b[1;32m----> 5\u001b[1;33m         \u001b[1;32mreturn\u001b[0m \u001b[0mcnt\u001b[0m\u001b[1;33m\u001b[0m\u001b[1;33m\u001b[0m\u001b[0m\n\u001b[0m",
      "\u001b[1;31mNameError\u001b[0m: name 'cnt' is not defined"
     ]
    }
   ],
   "source": [
    "A().move() #오류가 남 "
   ]
  },
  {
   "cell_type": "code",
   "execution_count": 79,
   "id": "aa6ba6b0",
   "metadata": {},
   "outputs": [],
   "source": [
    "class A:\n",
    "    cnt = 0\n",
    "    \n",
    "    @classmethod \n",
    "    def move(cls):\n",
    "        return cls.cnt"
   ]
  },
  {
   "cell_type": "code",
   "execution_count": 80,
   "id": "a8c978e9",
   "metadata": {},
   "outputs": [
    {
     "data": {
      "text/plain": [
       "0"
      ]
     },
     "execution_count": 80,
     "metadata": {},
     "output_type": "execute_result"
    }
   ],
   "source": [
    "A().move() #접근가능해짐"
   ]
  },
  {
   "cell_type": "code",
   "execution_count": 82,
   "id": "6308ce81",
   "metadata": {},
   "outputs": [],
   "source": [
    "class Person:\n",
    "    def __init__(self, name, age):\n",
    "        self.name = name\n",
    "        self.age = age\n",
    "    \n",
    "    @classmethod\n",
    "    def tuple_object(cls, args):\n",
    "        return cls(args[0], args[1])\n",
    "    \n",
    "name = 'kim'\n",
    "age = 24\n",
    "\n",
    "info = name, age\n",
    "p =Person.tuple_object(info)"
   ]
  },
  {
   "cell_type": "code",
   "execution_count": 83,
   "id": "a6347870",
   "metadata": {},
   "outputs": [
    {
     "data": {
      "text/plain": [
       "'kim'"
      ]
     },
     "execution_count": 83,
     "metadata": {},
     "output_type": "execute_result"
    }
   ],
   "source": [
    "p.name "
   ]
  },
  {
   "cell_type": "code",
   "execution_count": 88,
   "id": "51ed7002",
   "metadata": {},
   "outputs": [
    {
     "data": {
      "text/plain": [
       "'객체 수 : 4'"
      ]
     },
     "execution_count": 88,
     "metadata": {},
     "output_type": "execute_result"
    }
   ],
   "source": [
    "class A:\n",
    "    #붕어빵 몇개?\n",
    "    cnt = 0\n",
    "    \n",
    "    def __init__(self):\n",
    "        A.cnt += 1\n",
    "    \n",
    "    #cnt += 1\n",
    "    @classmethod\n",
    "    def count(cls):\n",
    "        return f'객체 수 : {cls.cnt}'\n",
    "    \n",
    "A()\n",
    "A()\n",
    "A()\n",
    "A()\n",
    "A.count() #4"
   ]
  },
  {
   "cell_type": "code",
   "execution_count": 1,
   "id": "ab19b701",
   "metadata": {},
   "outputs": [],
   "source": [
    "class Coyote:\n",
    "    @staticmethod \n",
    "    def says():\n",
    "        print('hi')"
   ]
  },
  {
   "cell_type": "code",
   "execution_count": 2,
   "id": "46c6fe48",
   "metadata": {},
   "outputs": [
    {
     "name": "stdout",
     "output_type": "stream",
     "text": [
      "hi\n"
     ]
    }
   ],
   "source": [
    "Coyote.says()"
   ]
  },
  {
   "cell_type": "code",
   "execution_count": 3,
   "id": "bb009700",
   "metadata": {},
   "outputs": [
    {
     "ename": "TypeError",
     "evalue": "Can't instantiate abstract class Car with abstract method go",
     "output_type": "error",
     "traceback": [
      "\u001b[1;31m---------------------------------------------------------------------------\u001b[0m",
      "\u001b[1;31mTypeError\u001b[0m                                 Traceback (most recent call last)",
      "\u001b[1;32m~\\AppData\\Local\\Temp/ipykernel_13176/1484300561.py\u001b[0m in \u001b[0;36m<module>\u001b[1;34m\u001b[0m\n\u001b[0;32m     11\u001b[0m     \u001b[1;32mpass\u001b[0m\u001b[1;33m\u001b[0m\u001b[1;33m\u001b[0m\u001b[0m\n\u001b[0;32m     12\u001b[0m \u001b[1;33m\u001b[0m\u001b[0m\n\u001b[1;32m---> 13\u001b[1;33m \u001b[0mCar\u001b[0m\u001b[1;33m(\u001b[0m\u001b[1;33m)\u001b[0m\u001b[1;33m\u001b[0m\u001b[1;33m\u001b[0m\u001b[0m\n\u001b[0m\u001b[0;32m     14\u001b[0m \u001b[1;31m# go를 override하지 않으면 선언이 불가하다.\u001b[0m\u001b[1;33m\u001b[0m\u001b[1;33m\u001b[0m\u001b[0m\n\u001b[0;32m     15\u001b[0m \u001b[1;31m# 추상 클래스를 상속하는 자식 클래스가 꼭 해당 메소드를 구현하도록 의무를 지우는 역할\u001b[0m\u001b[1;33m\u001b[0m\u001b[1;33m\u001b[0m\u001b[0m\n",
      "\u001b[1;31mTypeError\u001b[0m: Can't instantiate abstract class Car with abstract method go"
     ]
    }
   ],
   "source": [
    "from abc import *\n",
    "\n",
    "class Vehicle(metaclass = ABCMeta):\n",
    "    speed = '속도'\n",
    "    \n",
    "    @abstractmethod\n",
    "    def go(self):\n",
    "        print('탈 것이 간다.')\n",
    "        \n",
    "class Car(Vehicle):\n",
    "    pass\n",
    "\n",
    "Car()\n",
    "# go를 override하지 않으면 선언이 불가하다.\n",
    "# 추상 클래스를 상속하는 자식 클래스가 꼭 해당 메소드를 구현하도록 의무를 지우는 역할 "
   ]
  },
  {
   "cell_type": "code",
   "execution_count": 4,
   "id": "90aaf265",
   "metadata": {},
   "outputs": [
    {
     "name": "stdout",
     "output_type": "stream",
     "text": [
      "go를 override해야 선언이 가능합니다.\n"
     ]
    }
   ],
   "source": [
    "class Car(Vehicle):\n",
    "    def go(self):\n",
    "        print('go를 override해야 선언이 가능합니다.')\n",
    "\n",
    "car = Car()\n",
    "car.go()"
   ]
  },
  {
   "cell_type": "code",
   "execution_count": null,
   "id": "e1494cc4",
   "metadata": {},
   "outputs": [],
   "source": []
  }
 ],
 "metadata": {
  "kernelspec": {
   "display_name": "Python 3 (ipykernel)",
   "language": "python",
   "name": "python3"
  },
  "language_info": {
   "codemirror_mode": {
    "name": "ipython",
    "version": 3
   },
   "file_extension": ".py",
   "mimetype": "text/x-python",
   "name": "python",
   "nbconvert_exporter": "python",
   "pygments_lexer": "ipython3",
   "version": "3.9.7"
  }
 },
 "nbformat": 4,
 "nbformat_minor": 5
}
