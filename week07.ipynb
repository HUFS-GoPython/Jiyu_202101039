{
 "cells": [
  {
   "cell_type": "markdown",
   "id": "ae0cb421",
   "metadata": {},
   "source": [
    "### 함수\n",
    "1. 정의 \n",
    "2. 인수\n",
    "3. 호출 방식"
   ]
  },
  {
   "cell_type": "markdown",
   "id": "2ca7057a",
   "metadata": {},
   "source": [
    "#### 1. 정의 \n",
    "- 코드의 덩어리, 코드의 묶음\n",
    "- 간편한 재사용을 위해 사용함 #코드가 아무리 길어도 한 줄로 재사용이 가능함\n",
    "- 정의하는 부분(define) + 호출하는 부분(call) 으로 이루어짐\n",
    "    - 정의하기 \n",
    "    def 함수이름#여기 엔터 없이(매개변수 1, 2, 3,....):\n",
    "        수행문1 (매개변수 이용)\n",
    "        수행문2\n",
    "        .....\n",
    "        return 반환값\n",
    "    - 호출하기\n",
    "    함수이름(인수1, 2, 3, .....)\n",
    "- 2 * 2 = 4\n",
    "    1. 둘 다 없는 \n",
    "    2. 둘 다 있는 \n",
    "    3. 매개변수만 있는 \n",
    "    4. 반환 값만 있는 \n",
    "- y = x + 1 # x = 매개변수, y = 반환값, x+1 = 수행문"
   ]
  },
  {
   "cell_type": "code",
   "execution_count": 2,
   "id": "ccad558c",
   "metadata": {},
   "outputs": [
    {
     "name": "stdout",
     "output_type": "stream",
     "text": [
      "quack\n"
     ]
    }
   ],
   "source": [
    "#1. 둘 다 없는 \n",
    "def make_a_sound():\n",
    "    print('quack')\n",
    "    return None \n",
    "make_a_sound()"
   ]
  },
  {
   "cell_type": "code",
   "execution_count": 3,
   "id": "42411e8e",
   "metadata": {},
   "outputs": [
    {
     "data": {
      "text/plain": [
       "5"
      ]
     },
     "execution_count": 3,
     "metadata": {},
     "output_type": "execute_result"
    }
   ],
   "source": [
    "#2. 둘 다 있는\n",
    "def ex(x): \n",
    "    y = x + 1\n",
    "    return y\n",
    "\n",
    "ex(4)"
   ]
  },
  {
   "cell_type": "code",
   "execution_count": 4,
   "id": "2c2dbb9c",
   "metadata": {},
   "outputs": [
    {
     "name": "stdout",
     "output_type": "stream",
     "text": [
      "yay\n"
     ]
    }
   ],
   "source": [
    "#3. 매개변수만 있는 \n",
    "def make_a_sound(sound): \n",
    "    print(sound)\n",
    "make_a_sound('yay')"
   ]
  },
  {
   "cell_type": "code",
   "execution_count": 5,
   "id": "1bc5d7dc",
   "metadata": {},
   "outputs": [
    {
     "name": "stdout",
     "output_type": "stream",
     "text": [
      "yay\n"
     ]
    }
   ],
   "source": [
    "def make_a_sound(sound): #sound = 매개변수\n",
    "    print(sound)\n",
    "    \n",
    "yay = 'yay' #yay = 인수\n",
    "make_a_sound('yay')"
   ]
  },
  {
   "cell_type": "code",
   "execution_count": 6,
   "id": "c90b67d6",
   "metadata": {},
   "outputs": [
    {
     "data": {
      "text/plain": [
       "True"
      ]
     },
     "execution_count": 6,
     "metadata": {},
     "output_type": "execute_result"
    }
   ],
   "source": [
    "#4. 반환 값만 있는 \n",
    "def agree():\n",
    "    return True\n",
    "\n",
    "agree()"
   ]
  },
  {
   "cell_type": "code",
   "execution_count": 7,
   "id": "721a5f92",
   "metadata": {},
   "outputs": [
    {
     "name": "stdout",
     "output_type": "stream",
     "text": [
      "Splendid\n"
     ]
    }
   ],
   "source": [
    "#4를 통해 if문 만들기\n",
    "def agree():\n",
    "    return True\n",
    "\n",
    "if agree():\n",
    "    print('Splendid')\n",
    "else:\n",
    "    print('unexpected!')"
   ]
  },
  {
   "cell_type": "markdown",
   "id": "ff6d536e",
   "metadata": {},
   "source": [
    "- 이름 짓기 \n",
    "    - 소문자만 사용한다.\n",
    "        - splitWord??? #괜찮지만 최대한 자제\n",
    "        - split_word\n",
    "    - 동작과 관련되어 있기 때문에 \"동사+명사\"의 형태 주로 씀 \n",
    "    - i.e,,클래스는 주로 명사 def split_word():(x)\n",
    "    - 줄임말 쓰지 말것 \n",
    "        - splt_word(x)\n",
    "        - #정해진 줄임말 calculate -> calc(0)        "
   ]
  },
  {
   "cell_type": "code",
   "execution_count": 8,
   "id": "444f5cd3",
   "metadata": {},
   "outputs": [
    {
     "data": {
      "text/plain": [
       "'black'"
      ]
     },
     "execution_count": 8,
     "metadata": {},
     "output_type": "execute_result"
    }
   ],
   "source": [
    "def commentary(color):\n",
    "    if color == 'g':\n",
    "        return 'green'\n",
    "    else:\n",
    "        return 'black'\n",
    "\n",
    "color = 'white'\n",
    "commentary(color)"
   ]
  },
  {
   "cell_type": "code",
   "execution_count": 9,
   "id": "8d4ff493",
   "metadata": {},
   "outputs": [
    {
     "name": "stdout",
     "output_type": "stream",
     "text": [
      "green\n",
      "black\n",
      "black\n"
     ]
    }
   ],
   "source": [
    "colors = ['g', 'b', 't']\n",
    "\n",
    "for color in colors:\n",
    "    print(commentary(color))"
   ]
  },
  {
   "cell_type": "markdown",
   "id": "67d8c933",
   "metadata": {},
   "source": [
    "#### 2. 인수\n",
    "- 매개변수 vs 인수\n",
    "    - 매개변수 : 함수 내(인터페이스)에서 유효한 변수 #함수를 빠져나오면 유효하지 않다.\n",
    "    - 인수 : 실제 매개변수에 대입되는 변수\n",
    "    - 호출 시에 인수가 매개변수에 복제된다. #yay -> sound\n",
    "- 위치 인수\n",
    "    - positional argument\n",
    "    - 매개변수를 순서에 따라서 복제한다.\n",
    "- 키워드 인수\n",
    "    - keyword argument\n",
    "    - 매개변수 키워드에 맞는 인수로 지칭 -> 위치가 달라도 됨\n",
    "- 디폴트 인수\n",
    "    - default argument\n",
    "    - 매개변수를 정의할 때 값을 미리 지정해놓는 것\n",
    "    - 호출 시에 값이 입력되지 않으면 디폴트 값을 사용한다.\n",
    "    - 디폴트 값이 언디폴드 앞에 위치할 수 없음"
   ]
  },
  {
   "cell_type": "code",
   "execution_count": 11,
   "id": "91add2eb",
   "metadata": {},
   "outputs": [
    {
     "data": {
      "text/plain": [
       "{'wine': 'a', 'entree': 'b', 'dessert': 'c'}"
      ]
     },
     "execution_count": 11,
     "metadata": {},
     "output_type": "execute_result"
    }
   ],
   "source": [
    "# 위치 인수 \n",
    "def menu(wine, entree, dessert):\n",
    "    return{'wine':wine, 'entree':entree, 'dessert':dessert}\n",
    "\n",
    "menu('a', 'b', 'c')"
   ]
  },
  {
   "cell_type": "code",
   "execution_count": 12,
   "id": "8cef3697",
   "metadata": {},
   "outputs": [
    {
     "data": {
      "text/plain": [
       "{'wine': 'c', 'entree': 'a', 'dessert': 'b'}"
      ]
     },
     "execution_count": 12,
     "metadata": {},
     "output_type": "execute_result"
    }
   ],
   "source": [
    "#키워드 인수\n",
    "menu(entree = 'a', dessert = 'b', wine = 'c')"
   ]
  },
  {
   "cell_type": "code",
   "execution_count": 13,
   "id": "269c825a",
   "metadata": {},
   "outputs": [
    {
     "ename": "SyntaxError",
     "evalue": "non-default argument follows default argument (Temp/ipykernel_12068/3275178229.py, line 2)",
     "output_type": "error",
     "traceback": [
      "\u001b[1;36m  File \u001b[1;32m\"C:\\Users\\irisc\\AppData\\Local\\Temp/ipykernel_12068/3275178229.py\"\u001b[1;36m, line \u001b[1;32m2\u001b[0m\n\u001b[1;33m    def menu(wine = 'rioja', entree, dessert):\u001b[0m\n\u001b[1;37m                                     ^\u001b[0m\n\u001b[1;31mSyntaxError\u001b[0m\u001b[1;31m:\u001b[0m non-default argument follows default argument\n"
     ]
    }
   ],
   "source": [
    "#디폴트 인수-1\n",
    "def menu(wine = 'rioja', entree, dessert):\n",
    "    return{'wine':wine, 'entree':entree, 'dessert':dessert}\n",
    "#에러가 남 undefault가 default 앞에 와야 함"
   ]
  },
  {
   "cell_type": "code",
   "execution_count": 14,
   "id": "b6246b3c",
   "metadata": {},
   "outputs": [
    {
     "data": {
      "text/plain": [
       "{'wine': 'rioja', 'entree': 'egg', 'dessert': 'strawberry'}"
      ]
     },
     "execution_count": 14,
     "metadata": {},
     "output_type": "execute_result"
    }
   ],
   "source": [
    "#디폴트 인수-2 \n",
    "def menu2(wine, entree, dessert = 'strawberry'):\n",
    "    return{'wine':wine, 'entree':entree, 'dessert':dessert}\n",
    "\n",
    "menu2('rioja', 'egg')"
   ]
  },
  {
   "cell_type": "code",
   "execution_count": 15,
   "id": "6a0325f8",
   "metadata": {},
   "outputs": [
    {
     "data": {
      "text/plain": [
       "{'wine': 'rioja', 'entree': 'egg', 'dessert': 'kiwi'}"
      ]
     },
     "execution_count": 15,
     "metadata": {},
     "output_type": "execute_result"
    }
   ],
   "source": [
    "#디폴트 인수-3\n",
    "menu2('rioja', 'egg', 'kiwi') #지정해주면 지정한대로 나온다. "
   ]
  },
  {
   "cell_type": "markdown",
   "id": "d5ab9ba2",
   "metadata": {},
   "source": [
    "#### 3. 호출방식\n",
    "- 정의 부분은 호출 시 실행된다.\n",
    "- 메모리에 저장되어 있다가 호출시에 사용됨\n",
    "- 매개변수 vs 인수\n",
    "    - 참조에 의한 호출(call by reference) #값이 아니라 변수가\n",
    "    - '매개변수 = 인수' copy되기 때문에 나타나는 문제점\n",
    "        - 리스트처럼 가변 객체일때 주소값을 공유하므로 값이 변함."
   ]
  },
  {
   "cell_type": "code",
   "execution_count": 16,
   "id": "321f9b69",
   "metadata": {},
   "outputs": [
    {
     "name": "stdout",
     "output_type": "stream",
     "text": [
      "2\n",
      "3\n",
      "1\n",
      "4\n"
     ]
    }
   ],
   "source": [
    "def multiply(x,y): #매개변수 x, y\n",
    "    print('1')\n",
    "    return x*y\n",
    "\n",
    "print('2')\n",
    "i = 2 #인수 i, j\n",
    "j = 4\n",
    "\n",
    "print('3')\n",
    "multiply(i,j) # i = 2, j =4 -> x = i, y = j\n",
    "\n",
    "print('4')"
   ]
  },
  {
   "cell_type": "code",
   "execution_count": 17,
   "id": "fe68e115",
   "metadata": {},
   "outputs": [
    {
     "name": "stdout",
     "output_type": "stream",
     "text": [
      "['a']\n",
      "['a', 'b']\n"
     ]
    }
   ],
   "source": [
    "def buggy(arg, result=[]):\n",
    "    result.append(arg)\n",
    "    print(result)\n",
    "\n",
    "a, b = 'a', 'b'\n",
    "buggy(a) #예상값 = a \n",
    "buggy(b) #예상값 = b\n",
    "#출력값은 누적된다."
   ]
  },
  {
   "cell_type": "code",
   "execution_count": 18,
   "id": "2bd40b64",
   "metadata": {},
   "outputs": [
    {
     "name": "stdout",
     "output_type": "stream",
     "text": [
      "['a']\n",
      "['b']\n"
     ]
    }
   ],
   "source": [
    "def buggy(arg, result=[]):\n",
    "    result = [] #이렇게 리스트를 새로\n",
    "    result.append(arg)\n",
    "    print(result)\n",
    "\n",
    "a, b = 'a', 'b'\n",
    "buggy(a) #예상값 = a \n",
    "buggy(b) #예상값 = b"
   ]
  },
  {
   "cell_type": "code",
   "execution_count": 47,
   "id": "45a3ed18",
   "metadata": {},
   "outputs": [
    {
     "name": "stdout",
     "output_type": "stream",
     "text": [
      "['a']\n"
     ]
    }
   ],
   "source": [
    "# 둘 다 조건식으로 포함하는 함수로 변경하기\n",
    "def buggy(arg, result=[]):\n",
    "    # 리스트 없으면 빈 리스트 생성하고, 있으면 그것을 써라\n",
    "    if result is None:\n",
    "        result = []\n",
    "    else:\n",
    "        result.append(arg)\n",
    "        print(result)\n",
    "buggy(a)\n",
    "#없는 값, 아무것도 없다 = None"
   ]
  },
  {
   "cell_type": "code",
   "execution_count": 19,
   "id": "df6cd290",
   "metadata": {},
   "outputs": [
    {
     "name": "stdout",
     "output_type": "stream",
     "text": [
      "None\n"
     ]
    }
   ],
   "source": [
    "thing = None\n",
    "\n",
    "if thing:\n",
    "    print('True')\n",
    "elif thing == False:\n",
    "    print('False')\n",
    "else:\n",
    "    print('None')"
   ]
  },
  {
   "cell_type": "code",
   "execution_count": 20,
   "id": "ee42dbb9",
   "metadata": {},
   "outputs": [
    {
     "name": "stdout",
     "output_type": "stream",
     "text": [
      "['a']\n",
      "['c', 'a']\n"
     ]
    }
   ],
   "source": [
    "# 둘 다 조건식으로 포함하는 함수로 변경하기\n",
    "def buggy(arg, result = None):\n",
    "    # 리스트 없으면 빈 리스트 생성하고, 있으면 그것을 써라\n",
    "    if result is None:\n",
    "        result = []\n",
    "    result.append(arg)\n",
    "    print(result)\n",
    "buggy(a)\n",
    "empty = ['c']\n",
    "buggy(a, empty) #empty 리스트를 통해서 쌓이게 된다."
   ]
  },
  {
   "cell_type": "code",
   "execution_count": 21,
   "id": "93adca82",
   "metadata": {},
   "outputs": [
    {
     "name": "stdout",
     "output_type": "stream",
     "text": [
      "london\n",
      "paris ==london?\n"
     ]
    }
   ],
   "source": [
    "def fx():\n",
    "    city = 'london' #지역 변수(함수 내부에서만)\n",
    "    print(city)\n",
    "city = 'paris'\n",
    "fx()\n",
    "print(city,'==london?')"
   ]
  },
  {
   "cell_type": "code",
   "execution_count": 22,
   "id": "30686464",
   "metadata": {},
   "outputs": [
    {
     "name": "stdout",
     "output_type": "stream",
     "text": [
      "london\n",
      "london ==london?\n"
     ]
    }
   ],
   "source": [
    "def fx():\n",
    "    global city #전역변수\n",
    "    city = 'london' #지역 변수(함수 내부에서만)\n",
    "    print(city)\n",
    "city = 'paris'\n",
    "fx()\n",
    "print(city,'==london?')"
   ]
  },
  {
   "cell_type": "code",
   "execution_count": 23,
   "id": "59ff6205",
   "metadata": {},
   "outputs": [
    {
     "data": {
      "text/plain": [
       "'london'"
      ]
     },
     "execution_count": 23,
     "metadata": {},
     "output_type": "execute_result"
    }
   ],
   "source": [
    "city #global로 인해 london으로 나온다."
   ]
  },
  {
   "cell_type": "code",
   "execution_count": 24,
   "id": "47295485",
   "metadata": {},
   "outputs": [
    {
     "data": {
      "text/plain": [
       "'word'"
      ]
     },
     "execution_count": 24,
     "metadata": {},
     "output_type": "execute_result"
    }
   ],
   "source": [
    "def make_a_sound1(sound): \n",
    "    print(sound)\n",
    "    \n",
    "def make_a_sound2(sound):\n",
    "    return sound\n",
    "word = make_a_sound2('word')\n",
    "word\n",
    "#print 와 return의 차이점 -> return은 변수에 넣어서 사용 가능"
   ]
  },
  {
   "cell_type": "markdown",
   "id": "ef63dc47",
   "metadata": {},
   "source": [
    "#### doc string\n",
    "- 함수 설명\n",
    "- 매개변수 타입, 의미, 함수 기능 \n",
    "- \"\"\"doc string 작성\"\"\""
   ]
  },
  {
   "cell_type": "code",
   "execution_count": 26,
   "id": "36d0fe6c",
   "metadata": {},
   "outputs": [],
   "source": [
    "def buggy(darg, result = []):\n",
    "    \"\"\"\n",
    "    arg : str, 꽃이름\n",
    "    result : list, \n",
    "    꽃 이름을 리스트에 추가한다. \n",
    "    \"\"\"\n",
    "    if arg == thing:\n",
    "        new_list = []\n",
    "        new_list.append(arg)\n",
    "    else:\n",
    "        result.append(arg)"
   ]
  },
  {
   "cell_type": "code",
   "execution_count": 27,
   "id": "b921bbfb",
   "metadata": {},
   "outputs": [
    {
     "name": "stdout",
     "output_type": "stream",
     "text": [
      "Help on function buggy in module __main__:\n",
      "\n",
      "buggy(darg, result=[])\n",
      "    arg : str, 꽃이름\n",
      "    result : list, \n",
      "    꽃 이름을 리스트에 추가한다.\n",
      "\n"
     ]
    }
   ],
   "source": [
    "#독스트링 확인 \n",
    "help(buggy)"
   ]
  },
  {
   "cell_type": "code",
   "execution_count": 28,
   "id": "ab8ee6bc",
   "metadata": {},
   "outputs": [
    {
     "data": {
      "text/plain": [
       "'\\n    arg : str, 꽃이름\\n    result : list, \\n    꽃 이름을 리스트에 추가한다. \\n    '"
      ]
     },
     "execution_count": 28,
     "metadata": {},
     "output_type": "execute_result"
    }
   ],
   "source": [
    "buggy.__doc__"
   ]
  },
  {
   "cell_type": "markdown",
   "id": "6269ea60",
   "metadata": {},
   "source": [
    "# Quiz 1\n",
    "- 나이 -> 연도\n",
    "- 함수: 입력값 = 나이, 반환 = 연도\n",
    "- 나이 = input 받기"
   ]
  },
  {
   "cell_type": "code",
   "execution_count": 30,
   "id": "cf7f0fef",
   "metadata": {},
   "outputs": [
    {
     "name": "stdout",
     "output_type": "stream",
     "text": [
      "나이 입력하세요22\n"
     ]
    },
    {
     "data": {
      "text/plain": [
       "2001"
      ]
     },
     "execution_count": 30,
     "metadata": {},
     "output_type": "execute_result"
    }
   ],
   "source": [
    "\n",
    "\n",
    "int(input('나이 입력하세요'))\n",
    "def age_to_year(age):\n",
    "    year = 2022 - age + 1\n",
    "    return(year)\n",
    "\n",
    "age_to_year(22)\n",
    "        "
   ]
  },
  {
   "cell_type": "markdown",
   "id": "705d6ac9",
   "metadata": {},
   "source": [
    "## 브라운 정제하기 \n",
    "1. 문장 분절\n",
    "\n",
    "2. 단어 분절  \n",
    "    - A. 문장부호 제거 \n",
    "    - B. 하이픈, 's 'nt \n",
    "    \n",
    "3. 함수로 만들기"
   ]
  },
  {
   "cell_type": "code",
   "execution_count": 35,
   "id": "cc568f8a",
   "metadata": {},
   "outputs": [],
   "source": [
    "import nltk\n",
    "\n",
    "nltk.download('brown', quiet=True)\n",
    "brown = nltk.corpus.brown\n",
    "romance = brown.raw(categories='romance')[:5000]"
   ]
  },
  {
   "cell_type": "code",
   "execution_count": 36,
   "id": "db1f5c53",
   "metadata": {},
   "outputs": [],
   "source": [
    "#1. 문장 분절\n",
    "# ['sentence', 'sentence', 'sentence' ... ]\n",
    "\n",
    "CUT = '/.' # !/. ?/.\n",
    "sentences = [sent.strip() for sent in romance.split(CUT)]    # .strip()은 \\n 까지 지워준다"
   ]
  },
  {
   "cell_type": "code",
   "execution_count": 37,
   "id": "2eca45e0",
   "metadata": {},
   "outputs": [],
   "source": [
    "#2. 단어분절\n",
    "# [[word, word, word ...], [word, word, word ...] ...]\n",
    "\n",
    "sentence_tokens = [[word.split('/')[0] for word in sent.split()] for sent in sentences]"
   ]
  },
  {
   "cell_type": "code",
   "execution_count": 38,
   "id": "ee7f68b9",
   "metadata": {},
   "outputs": [
    {
     "data": {
      "text/plain": [
       "{\"''\", '--', '``'}"
      ]
     },
     "execution_count": 38,
     "metadata": {},
     "output_type": "execute_result"
    }
   ],
   "source": [
    "#3. 단어 정제\n",
    "import string\n",
    "punct = list(string.punctuation)\n",
    "\n",
    "# string 라이브러리에 없는 punctuation들 추가하기\n",
    "extra_punct = set([                                   # set으로 중복 처리\n",
    "    word\n",
    "    for sent in sentence_tokens\n",
    "    for word in sent\n",
    "    if not word[0].isalnum() and word not in punct    # 부호로 시작하는 경우 단어 자체가 부호일 것이다. (원본 텍스트 특성상, 예시:  ;/.  --/--   ,/,)\n",
    "])\n",
    "\n",
    "extra_punct"
   ]
  },
  {
   "cell_type": "code",
   "execution_count": 39,
   "id": "bcbd62ec",
   "metadata": {},
   "outputs": [],
   "source": [
    "punct.extend(extra_punct)"
   ]
  },
  {
   "cell_type": "code",
   "execution_count": 40,
   "id": "f53ac201",
   "metadata": {},
   "outputs": [
    {
     "name": "stdout",
     "output_type": "stream",
     "text": [
      "['aluminum', 'trays', 'wrapped', 'in', 'fly', 'dotted', 'cheesecloth']\n",
      "['Rossi', 'that', \"'s\", 'what', 'he', 'was', 'called', 'in', 'the', 'old', 'country']\n"
     ]
    }
   ],
   "source": [
    "# 문장 부호만 덩그러니 있는 것들을 제거\n",
    "wordList = [word for sent in sentence_tokens for word in sent if word not in punct]\n",
    "\n",
    "idx = 0\n",
    "while idx < len(wordList):\n",
    "    \n",
    "    # HYPHEN 제거\n",
    "    if '-' in wordList[idx]:\n",
    "        wordList[idx:idx + 1] = wordList[idx].split('-')\n",
    "    \n",
    "    # APOSTROPHE 제거\n",
    "    elif \"'\" in wordList[idx]:\n",
    "        wordList[idx:idx + 1] = wordList[idx].split(\"'\")\n",
    "        wordList[idx + 1] = \"'\" + wordList[idx + 1]\n",
    "        idx += 1\n",
    "        \n",
    "    idx += 1\n",
    "\n",
    "    \n",
    "print(wordList[98:105])\n",
    "print(wordList[148:159])"
   ]
  },
  {
   "cell_type": "code",
   "execution_count": 41,
   "id": "d210f401",
   "metadata": {},
   "outputs": [
    {
     "name": "stdout",
     "output_type": "stream",
     "text": [
      "['Yet', 'if', 'he', 'were', 'not', 'there', 'they', 'would', 'have', 'missed', 'him', 'as', 'they', 'would', 'have', 'missed', 'the', 'sounds', 'of', 'bees', 'buzzing', 'against', 'the', 'screen', 'door', 'in', 'early', 'June']\n"
     ]
    }
   ],
   "source": [
    "# 4. 함수만들기 \n",
    "# 단어 분절 함수\n",
    "def split_sentence(sentence):\n",
    "    word_list = [\n",
    "        word[:word.find('/')]\n",
    "        for word in sentence.split() \n",
    "        if '/' in word and word[0] not in punct\n",
    "    ]\n",
    "    return word_list\n",
    "\n",
    "print(split_sentence(sentences[3]))"
   ]
  },
  {
   "cell_type": "code",
   "execution_count": null,
   "id": "8aefe590",
   "metadata": {},
   "outputs": [],
   "source": []
  }
 ],
 "metadata": {
  "kernelspec": {
   "display_name": "Python 3 (ipykernel)",
   "language": "python",
   "name": "python3"
  },
  "language_info": {
   "codemirror_mode": {
    "name": "ipython",
    "version": 3
   },
   "file_extension": ".py",
   "mimetype": "text/x-python",
   "name": "python",
   "nbconvert_exporter": "python",
   "pygments_lexer": "ipython3",
   "version": "3.9.7"
  }
 },
 "nbformat": 4,
 "nbformat_minor": 5
}
