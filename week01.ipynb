{
 "cells": [
  {
   "cell_type": "markdown",
   "id": "74f35e9a",
   "metadata": {},
   "source": [
    "## 프로그래밍이란?\n",
    "    - 프로그래밍 언어를 사용하여 프로그램을 개발하는 것\n",
    "    - 논리적인 사고를 가질 수 있다.\n",
    "## programming language ?\n",
    "    - 프로그램을 개발할 때 사용하는 도구\n",
    "    - 인간이 원하는 것을 컴푸터에게 명령할 때 사용하는 컴퓨터가 이해할 수 있는 언어\n",
    "## 파이썬?\n",
    "    - 쉽다. 간결하다. \n",
    "    -라이브러리가 많다. \n",
    "    "
   ]
  },
  {
   "cell_type": "markdown",
   "id": "d2c039d0",
   "metadata": {},
   "source": [
    "##chapter2. Data : Types, Values, Variables, and Names"
   ]
  },
  {
   "cell_type": "markdown",
   "id": "86474b74",
   "metadata": {},
   "source": [
    "- 변수 variable : 특정 값을 저장하는 공간 \n",
    "    a\n",
    "- 값 value\n",
    "    2\n",
    "-gkfekdgkek assign : 변수에 값을 넣는 과정 \n",
    "    \"2를 a에 넣었다.\"\n",
    "    \n",
    "    *** a는 2다. a==2 \n",
    "-자료형 type : 데이터의 형태 \n",
    "    a데이터의 형태 ? integer (int타입이다.)"
   ]
  },
  {
   "cell_type": "code",
   "execution_count": 9,
   "id": "518c97ae",
   "metadata": {},
   "outputs": [
    {
     "name": "stdout",
     "output_type": "stream",
     "text": [
      "2\n"
     ]
    }
   ],
   "source": [
    "a = 2\n",
    "print(a)"
   ]
  },
  {
   "cell_type": "code",
   "execution_count": 10,
   "id": "1a6f9157",
   "metadata": {},
   "outputs": [
    {
     "data": {
      "text/plain": [
       "int"
      ]
     },
     "execution_count": 10,
     "metadata": {},
     "output_type": "execute_result"
    }
   ],
   "source": [
    "type(a)"
   ]
  },
  {
   "cell_type": "code",
   "execution_count": 11,
   "id": "d54c1a74",
   "metadata": {},
   "outputs": [
    {
     "data": {
      "text/plain": [
       "int"
      ]
     },
     "execution_count": 11,
     "metadata": {},
     "output_type": "execute_result"
    }
   ],
   "source": [
    "type(2)"
   ]
  },
  {
   "cell_type": "code",
   "execution_count": 12,
   "id": "bd7742b9",
   "metadata": {},
   "outputs": [
    {
     "data": {
      "text/plain": [
       "bool"
      ]
     },
     "execution_count": 12,
     "metadata": {},
     "output_type": "execute_result"
    }
   ],
   "source": [
    "type(a==2) #bool, boolean T/F"
   ]
  },
  {
   "cell_type": "markdown",
   "id": "f48b1ee5",
   "metadata": {},
   "source": [
    "###type\n",
    "- integer 정수 : 1, 2, 3 (int)\n",
    "- floating point number 부등소수점 : 1.0, 2.0, 0.4 (float)\n",
    "- string 문자열 : \"1\",'apple' (str)\n",
    "- boolean 불리언 : True/False(bool) "
   ]
  },
  {
   "cell_type": "code",
   "execution_count": 14,
   "id": "8c38d56c",
   "metadata": {},
   "outputs": [
    {
     "data": {
      "text/plain": [
       "str"
      ]
     },
     "execution_count": 14,
     "metadata": {},
     "output_type": "execute_result"
    }
   ],
   "source": [
    "type(\"1\")"
   ]
  },
  {
   "cell_type": "code",
   "execution_count": 15,
   "id": "f42c4a5a",
   "metadata": {},
   "outputs": [
    {
     "data": {
      "text/plain": [
       "str"
      ]
     },
     "execution_count": 15,
     "metadata": {},
     "output_type": "execute_result"
    }
   ],
   "source": [
    "type('apple')"
   ]
  },
  {
   "cell_type": "code",
   "execution_count": 16,
   "id": "0f8474ec",
   "metadata": {},
   "outputs": [
    {
     "ename": "NameError",
     "evalue": "name 'apple' is not defined",
     "output_type": "error",
     "traceback": [
      "\u001b[1;31m---------------------------------------------------------------------------\u001b[0m",
      "\u001b[1;31mNameError\u001b[0m                                 Traceback (most recent call last)",
      "\u001b[1;32m~\\AppData\\Local\\Temp/ipykernel_12932/1340092384.py\u001b[0m in \u001b[0;36m<module>\u001b[1;34m\u001b[0m\n\u001b[1;32m----> 1\u001b[1;33m \u001b[0mtype\u001b[0m\u001b[1;33m(\u001b[0m\u001b[0mapple\u001b[0m\u001b[1;33m)\u001b[0m\u001b[1;33m\u001b[0m\u001b[1;33m\u001b[0m\u001b[0m\n\u001b[0m",
      "\u001b[1;31mNameError\u001b[0m: name 'apple' is not defined"
     ]
    }
   ],
   "source": [
    "type(apple) #변수명 "
   ]
  },
  {
   "cell_type": "code",
   "execution_count": 18,
   "id": "97101975",
   "metadata": {},
   "outputs": [
    {
     "data": {
      "text/plain": [
       "'kim'"
      ]
     },
     "execution_count": 18,
     "metadata": {},
     "output_type": "execute_result"
    }
   ],
   "source": [
    "name = 'kim'\n",
    "name "
   ]
  },
  {
   "cell_type": "code",
   "execution_count": 19,
   "id": "463a4184",
   "metadata": {},
   "outputs": [
    {
     "name": "stdout",
     "output_type": "stream",
     "text": [
      "kim\n"
     ]
    }
   ],
   "source": [
    "print ('kim')"
   ]
  },
  {
   "cell_type": "markdown",
   "id": "478afcf2",
   "metadata": {},
   "source": [
    "###할당 \n",
    "- = 이 기호를 사용한다. \n",
    "- 수학에서 '같다'라는 의미로 사용되지만, 프로그래밍에서는 '할당하다'라는 의미가 추가된다. \n",
    "- \"오른쪽의 값을 왼쪽에 할당한다.\"\n",
    "- 1. 오른쪽에 있는 모든 것은 값을 가져야 한다. (초기화를 해야한다.)\n",
    "- 2. 같은 변수에 다른 값을 넣을 수 있다. "
   ]
  },
  {
   "cell_type": "code",
   "execution_count": 20,
   "id": "deafab4e",
   "metadata": {},
   "outputs": [
    {
     "ename": "NameError",
     "evalue": "name 'x' is not defined",
     "output_type": "error",
     "traceback": [
      "\u001b[1;31m---------------------------------------------------------------------------\u001b[0m",
      "\u001b[1;31mNameError\u001b[0m                                 Traceback (most recent call last)",
      "\u001b[1;32m~\\AppData\\Local\\Temp/ipykernel_12932/1461765139.py\u001b[0m in \u001b[0;36m<module>\u001b[1;34m\u001b[0m\n\u001b[1;32m----> 1\u001b[1;33m \u001b[0my\u001b[0m \u001b[1;33m=\u001b[0m \u001b[0mx\u001b[0m \u001b[1;33m+\u001b[0m \u001b[1;36m3\u001b[0m\u001b[1;33m\u001b[0m\u001b[1;33m\u001b[0m\u001b[0m\n\u001b[0m",
      "\u001b[1;31mNameError\u001b[0m: name 'x' is not defined"
     ]
    }
   ],
   "source": [
    "y = x + 3 #에러가 뜸"
   ]
  },
  {
   "cell_type": "code",
   "execution_count": 22,
   "id": "f9565944",
   "metadata": {},
   "outputs": [],
   "source": [
    "x =4 #초기화\n",
    "y = x +3"
   ]
  },
  {
   "cell_type": "code",
   "execution_count": 23,
   "id": "650e05a4",
   "metadata": {},
   "outputs": [
    {
     "data": {
      "text/plain": [
       "(4, 7)"
      ]
     },
     "execution_count": 23,
     "metadata": {},
     "output_type": "execute_result"
    }
   ],
   "source": [
    "x,y"
   ]
  },
  {
   "cell_type": "code",
   "execution_count": null,
   "id": "5e72fa58",
   "metadata": {},
   "outputs": [],
   "source": [
    "name = 'kim'\n",
    "name = 'lee'\n",
    "name = 'paek'"
   ]
  },
  {
   "cell_type": "code",
   "execution_count": 24,
   "id": "b1bc6a8a",
   "metadata": {},
   "outputs": [
    {
     "name": "stdout",
     "output_type": "stream",
     "text": [
      "kim\n"
     ]
    }
   ],
   "source": [
    "print(name)"
   ]
  },
  {
   "cell_type": "markdown",
   "id": "6dd47653",
   "metadata": {},
   "source": [
    "###변수명 정하기\n",
    "- 나쁜 변수명 : a,b,c(의미가 없는 것)\n",
    "- 의미있는 이름으로 선언해야 한다. \n",
    "- 소문자, 대문자, 숫자, 언더바를 사용한다. \n",
    "    예: name, name2, my_name, Name "
   ]
  },
  {
   "cell_type": "code",
   "execution_count": 25,
   "id": "25a0414f",
   "metadata": {},
   "outputs": [
    {
     "name": "stdout",
     "output_type": "stream",
     "text": [
      "juliette,jessica,laura\n"
     ]
    }
   ],
   "source": [
    "name = 'juliette'\n",
    "name1 = 'jessica'\n",
    "my_name = 'laura'\n",
    "\n",
    "print(name, name1, my_name, sep=\",\")"
   ]
  },
  {
   "cell_type": "code",
   "execution_count": null,
   "id": "7b41d20d",
   "metadata": {},
   "outputs": [],
   "source": [
    "-안되는 것 \n",
    "    숫자로 시작할 수 없다. \n",
    "    예: 22name , 22_name \n",
    "    예약어로 선언할 수 없다. \n",
    "    예: def, False "
   ]
  },
  {
   "cell_type": "code",
   "execution_count": 26,
   "id": "4faebb82",
   "metadata": {},
   "outputs": [
    {
     "name": "stdout",
     "output_type": "stream",
     "text": [
      "\n",
      "Here is a list of the Python keywords.  Enter any keyword to get more help.\n",
      "\n",
      "False               break               for                 not\n",
      "None                class               from                or\n",
      "True                continue            global              pass\n",
      "__peg_parser__      def                 if                  raise\n",
      "and                 del                 import              return\n",
      "as                  elif                in                  try\n",
      "assert              else                is                  while\n",
      "async               except              lambda              with\n",
      "await               finally             nonlocal            yield\n",
      "\n"
     ]
    }
   ],
   "source": [
    "#if = kim\n",
    "help('keywords')"
   ]
  },
  {
   "cell_type": "markdown",
   "id": "98378140",
   "metadata": {},
   "source": [
    "-조심할 것 : 특별한 용도가 있기 때문에\n",
    "    -언더바로 시작하는 변수명: _name \n",
    "    - 더블 언더바로 시작하는 변수명 : __name \n",
    "    - 대문자로 시작하는 변수명 : Name \n",
    "    - 전체 대문자 : NAME"
   ]
  },
  {
   "cell_type": "code",
   "execution_count": 31,
   "id": "2854897d",
   "metadata": {},
   "outputs": [],
   "source": [
    "#변수명은 대소문자 구분한다. \n",
    "num = 43\n",
    "Num = 44"
   ]
  },
  {
   "cell_type": "code",
   "execution_count": 32,
   "id": "4cc81660",
   "metadata": {},
   "outputs": [
    {
     "data": {
      "text/plain": [
       "False"
      ]
     },
     "execution_count": 32,
     "metadata": {},
     "output_type": "execute_result"
    }
   ],
   "source": [
    "num == Num"
   ]
  }
 ],
 "metadata": {
  "kernelspec": {
   "display_name": "Python 3 (ipykernel)",
   "language": "python",
   "name": "python3"
  },
  "language_info": {
   "codemirror_mode": {
    "name": "ipython",
    "version": 3
   },
   "file_extension": ".py",
   "mimetype": "text/x-python",
   "name": "python",
   "nbconvert_exporter": "python",
   "pygments_lexer": "ipython3",
   "version": "3.9.7"
  }
 },
 "nbformat": 4,
 "nbformat_minor": 5
}
