{
 "cells": [
  {
   "cell_type": "markdown",
   "id": "a10c846e",
   "metadata": {},
   "source": [
    "### 파일과 디렉터리\n",
    "- 디렉터리 : 폴더의 다른 말, 파일이 논리적으로 묶인 단위\n",
    "- 파일 : 컴퓨터르 실행하는 기본 단위\n",
    "    - 파일명 + 확장자\n",
    "        - 확장자 : 파일의 쓰임을 구분하는 글자(pdf, xlsx, txt ...)\n",
    "    - 종류 : 바이너리 파일, 텍스트 파일\n",
    "         - 바이너리 : 이진 정보로 저장됨\n",
    "             - 내용을 확인 못 함\n",
    "             - 해당 확장자를 열 수 있는 프로그램이 필요함\n",
    "         - 텍스트 : 사람이 이해할 수 있는 문자열로 저장됨\n",
    "             - 메모장, html, py\n",
    "             - 변경 기준 : 아스키코드, 유니코드 \n",
    "             - 인코딩(encoding)\n",
    "                 - utf08, cq494"
   ]
  },
  {
   "cell_type": "markdown",
   "id": "a58a8f9b",
   "metadata": {},
   "source": [
    "#### 파일 열기\n",
    "- open(파일명, 모드)\n",
    "- 모드\n",
    "    - r : read\n",
    "    - w : write 파일이 있으면 덮어쓰고, 없으면 생성\n",
    "    - x : 파일이 없을 때만 생성 \n",
    "    - a : 있을 때 마지막 라인에 추가\n",
    "    \n",
    "- 추가 모드 (ex) rb, rt)\n",
    "    - b : binary\n",
    "    - t : text\n",
    "    \n"
   ]
  },
  {
   "cell_type": "code",
   "execution_count": 16,
   "id": "bdeea754",
   "metadata": {},
   "outputs": [
    {
     "data": {
      "text/plain": [
       "<_io.TextIOWrapper name='test.txt' mode='r' encoding='cp949'>"
      ]
     },
     "execution_count": 16,
     "metadata": {},
     "output_type": "execute_result"
    }
   ],
   "source": [
    "# 파일 열기 (같은 directory 안에 있는 경우)\n",
    "file = 'test.txt'\n",
    "f = open(file, 'r')\n",
    "f"
   ]
  },
  {
   "cell_type": "markdown",
   "id": "1c582983",
   "metadata": {},
   "source": [
    "#### 파일  읽기\n",
    "- read() : 전체를 하나의 str\n",
    "    - 포인터가 있음\n",
    "    - 파일이 클 때 전체를 다 읽으면 시간이 오래걸림 -> 유용 \n",
    "- readline() : 한줄만 str\n",
    "- readlines() : 전체를 list, 각 줄이 한 str"
   ]
  },
  {
   "cell_type": "code",
   "execution_count": 17,
   "id": "4ae31b19",
   "metadata": {},
   "outputs": [
    {
     "data": {
      "text/plain": [
       "'He'"
      ]
     },
     "execution_count": 17,
     "metadata": {},
     "output_type": "execute_result"
    }
   ],
   "source": [
    "#파일 읽기\n",
    "f.read(2)"
   ]
  },
  {
   "cell_type": "code",
   "execution_count": 18,
   "id": "907ba643",
   "metadata": {},
   "outputs": [
    {
     "data": {
      "text/plain": [
       "'llo! My name is Jiyu \\n'"
      ]
     },
     "execution_count": 18,
     "metadata": {},
     "output_type": "execute_result"
    }
   ],
   "source": [
    "f.readline() #개행을 기준으로 한 줄씩만"
   ]
  },
  {
   "cell_type": "code",
   "execution_count": 22,
   "id": "db03ac50",
   "metadata": {},
   "outputs": [
    {
     "data": {
      "text/plain": [
       "['Hello! My name is Jiyu \\n', 'Nice to meet you ']"
      ]
     },
     "execution_count": 22,
     "metadata": {},
     "output_type": "execute_result"
    }
   ],
   "source": [
    "file = 'test.txt'\n",
    "f = open(file, 'r')\n",
    "f.readlines()"
   ]
  },
  {
   "cell_type": "code",
   "execution_count": 23,
   "id": "10aa4ab0",
   "metadata": {},
   "outputs": [],
   "source": [
    "f.close()"
   ]
  },
  {
   "cell_type": "code",
   "execution_count": 24,
   "id": "333da61c",
   "metadata": {},
   "outputs": [],
   "source": [
    "f = open(file, 'r')\n",
    "sents = f.readlines()\n",
    "sents = [s.strip() for s in sents]\n",
    "f. close()"
   ]
  },
  {
   "cell_type": "code",
   "execution_count": 25,
   "id": "f52e8b74",
   "metadata": {},
   "outputs": [
    {
     "data": {
      "text/plain": [
       "['Hello! My name is Jiyu', 'Nice to meet you']"
      ]
     },
     "execution_count": 25,
     "metadata": {},
     "output_type": "execute_result"
    }
   ],
   "source": [
    "sents"
   ]
  },
  {
   "cell_type": "markdown",
   "id": "4d09e387",
   "metadata": {},
   "source": [
    "#### 파일 닫기\n",
    "- 파일 여는 즉시 닫기\n",
    "- 지원 해제\n",
    "- 메모리 절약, 에러 날 수 있음"
   ]
  },
  {
   "cell_type": "code",
   "execution_count": 26,
   "id": "b4208590",
   "metadata": {},
   "outputs": [],
   "source": [
    "with open(file, 'r') as f: #file\n",
    "    #open()이 적용되는 블럭\n",
    "    content = f.read()\n",
    "#파일이 자동으로 닫힘"
   ]
  },
  {
   "cell_type": "code",
   "execution_count": 27,
   "id": "dc9867d0",
   "metadata": {},
   "outputs": [
    {
     "data": {
      "text/plain": [
       "'Hello! My name is Jiyu \\nNice to meet you '"
      ]
     },
     "execution_count": 27,
     "metadata": {},
     "output_type": "execute_result"
    }
   ],
   "source": [
    "content"
   ]
  },
  {
   "cell_type": "markdown",
   "id": "69f0d15d",
   "metadata": {},
   "source": [
    "#### 실습\n",
    "readline 파일 읽는데, while 사용하여 한줄씩 읽고 strip()\n",
    "함수로 만들기"
   ]
  },
  {
   "cell_type": "code",
   "execution_count": 5,
   "id": "eb9f4a22",
   "metadata": {},
   "outputs": [
    {
     "name": "stdout",
     "output_type": "stream",
     "text": [
      "['Hello! My name is Jiyu', 'Nice to meet you']\n"
     ]
    }
   ],
   "source": [
    "sents = []\n",
    "file = 'test.txt'\n",
    "with open(file, 'r') as f:\n",
    "    while True:\n",
    "        line = f.readline()\n",
    "        if not line:\n",
    "            break\n",
    "        sent = line.strip()\n",
    "        sents.append(sent)\n",
    "print(sents)      "
   ]
  },
  {
   "cell_type": "markdown",
   "id": "1e40d9f4",
   "metadata": {},
   "source": [
    "#### 경로가 달라질 때 \n",
    "- . : 현재 경로\n",
    "- .. : 상위 경로"
   ]
  },
  {
   "cell_type": "code",
   "execution_count": 31,
   "id": "2ddb0d2e",
   "metadata": {
    "scrolled": true
   },
   "outputs": [
    {
     "ename": "FileNotFoundError",
     "evalue": "[Errno 2] No such file or directory: './folder/test.txt'",
     "output_type": "error",
     "traceback": [
      "\u001b[1;31m---------------------------------------------------------------------------\u001b[0m",
      "\u001b[1;31mFileNotFoundError\u001b[0m                         Traceback (most recent call last)",
      "\u001b[1;32m~\\AppData\\Local\\Temp/ipykernel_3276/98870402.py\u001b[0m in \u001b[0;36m<module>\u001b[1;34m\u001b[0m\n\u001b[0;32m      1\u001b[0m \u001b[0mfile\u001b[0m \u001b[1;33m=\u001b[0m \u001b[1;34m'./folder/test.txt'\u001b[0m\u001b[1;33m\u001b[0m\u001b[1;33m\u001b[0m\u001b[0m\n\u001b[0;32m      2\u001b[0m \u001b[1;33m\u001b[0m\u001b[0m\n\u001b[1;32m----> 3\u001b[1;33m \u001b[1;32mwith\u001b[0m \u001b[0mopen\u001b[0m\u001b[1;33m(\u001b[0m\u001b[0mfile\u001b[0m\u001b[1;33m)\u001b[0m \u001b[1;32mas\u001b[0m \u001b[0mf\u001b[0m\u001b[1;33m:\u001b[0m\u001b[1;33m\u001b[0m\u001b[1;33m\u001b[0m\u001b[0m\n\u001b[0m\u001b[0;32m      4\u001b[0m     \u001b[0mprint\u001b[0m\u001b[1;33m(\u001b[0m\u001b[0mf\u001b[0m\u001b[1;33m.\u001b[0m\u001b[0mread\u001b[0m\u001b[1;33m(\u001b[0m\u001b[1;33m)\u001b[0m\u001b[1;33m)\u001b[0m\u001b[1;33m\u001b[0m\u001b[1;33m\u001b[0m\u001b[0m\n",
      "\u001b[1;31mFileNotFoundError\u001b[0m: [Errno 2] No such file or directory: './folder/test.txt'"
     ]
    }
   ],
   "source": [
    "file = './folder/test.txt'\n",
    "\n",
    "with open(file) as f:\n",
    "    print(f.read())"
   ]
  },
  {
   "cell_type": "markdown",
   "id": "cbab0fe6",
   "metadata": {},
   "source": [
    "#### 쓰기\n",
    "- 인코딩 주의"
   ]
  },
  {
   "cell_type": "code",
   "execution_count": 6,
   "id": "be94df00",
   "metadata": {},
   "outputs": [],
   "source": [
    "with open('test2.txt', 'w', encoding = 'UTF-8') as f:\n",
    "    for i in range(10):\n",
    "        data = f'{i}번째 줄입니다. \\n'\n",
    "        f.write(data)"
   ]
  },
  {
   "cell_type": "code",
   "execution_count": 7,
   "id": "9f9e1ca5",
   "metadata": {},
   "outputs": [],
   "source": [
    "#print()를 써서 파일에 저장하기(추가하기) close!\n",
    "file_out = open('test2.txt', 'a', encoding = 'utf-8')\n",
    "print('한 줄 추가했습니다.',file = file_out)\n",
    "file_out.close()"
   ]
  },
  {
   "cell_type": "code",
   "execution_count": 8,
   "id": "99cb16a4",
   "metadata": {},
   "outputs": [
    {
     "data": {
      "text/plain": [
       "\"\\nwith open('test2.txt', 'w', encoding = 'UTF-8') as f:\\n    for i in range(10):\\n        data = f'{i}번째 줄입니다. \\n'\\n        f.write(data)\\n        --> dictionary가 없다고 뜸\\n        --> folder 만들어야 함\\n\""
      ]
     },
     "execution_count": 8,
     "metadata": {},
     "output_type": "execute_result"
    }
   ],
   "source": [
    "#folder 만들어서 추가하는 방법\n",
    "\"\"\"\n",
    "with open('test2.txt', 'w', encoding = 'UTF-8') as f:\n",
    "    for i in range(10):\n",
    "        data = f'{i}번째 줄입니다. \\n'\n",
    "        f.write(data)\n",
    "        --> dictionary가 없다고 뜸\n",
    "        --> folder 만들어야 함\n",
    "\"\"\""
   ]
  },
  {
   "cell_type": "code",
   "execution_count": 10,
   "id": "ec8d4915",
   "metadata": {},
   "outputs": [],
   "source": [
    "import os\n",
    "os.mkdir('abc')\n",
    "\n",
    "with open('./abc/test2.text', 'w', encoding='utf-8') as f:\n",
    "    for i in range(10):\n",
    "        data = f'{i}번째 줄입니다.\\n'\n",
    "        f.write(data)"
   ]
  },
  {
   "cell_type": "code",
   "execution_count": null,
   "id": "bf9afdd2",
   "metadata": {},
   "outputs": [],
   "source": [
    "path = 'abc'\n",
    "# 있는지 확인하기\n",
    "if not os.isdir(path):\n",
    "    os.mkdir(path)\n",
    "\n",
    "#dir_name = './abc/test2.txt'\n",
    "dir_name = os.path.join(path, 'test2.txt')\n",
    "\n",
    "#재확인\n",
    "if not os.path.exists(dir_name):\n",
    "    with open(dir_name, 'w') as f: #덮어 쓸 가능성 없음"
   ]
  },
  {
   "cell_type": "code",
   "execution_count": null,
   "id": "cd4bb3eb",
   "metadata": {},
   "outputs": [],
   "source": [
    "#파일에 뭐가 있든지 삭제\n",
    "import shutil\n",
    "\n",
    "shutil.rmtree(dir_name) #강제로 전부 삭제"
   ]
  },
  {
   "cell_type": "code",
   "execution_count": null,
   "id": "ece77774",
   "metadata": {},
   "outputs": [],
   "source": [
    "# 파일 지우기\n",
    "os.remove(file_name)\n",
    "\n",
    "#디렉토리 지우기\n",
    "os.rmdir(dir_name) #폴더 안에 파일 있으면 삭제 못함"
   ]
  },
  {
   "cell_type": "code",
   "execution_count": null,
   "id": "16c4b90c",
   "metadata": {},
   "outputs": [],
   "source": [
    "#folder 새로 만들어서\n",
    "#파일에 내용 쓰기\n",
    "#파일 열기\n",
    "import os\n",
    "os.mkdir('test3')\n",
    "\n",
    "with open('./test3/test3.txt', 'w', encoding='utf-8') as f:\n",
    "  f.write('adfadsfadf')"
   ]
  },
  {
   "cell_type": "markdown",
   "id": "23fdef5d",
   "metadata": {},
   "source": [
    "#### pickle\n",
    "- 객체를 파일로 저장하는 기능 제공"
   ]
  },
  {
   "cell_type": "code",
   "execution_count": 15,
   "id": "937fce24",
   "metadata": {},
   "outputs": [],
   "source": [
    "nums = list(range(10))\n",
    "\n",
    "import pickle\n",
    "with open('test.txt', 'wb') as f:\n",
    "    pickle.dump(nums, f)"
   ]
  },
  {
   "cell_type": "code",
   "execution_count": null,
   "id": "f1655929",
   "metadata": {},
   "outputs": [],
   "source": [
    "#기능/ 완결성 \n",
    "#다듬는 것보다 완결하는 것이 더 중요함 \n",
    "#구구단 복습 \n",
    "#webex 안들어가도 됨 \n",
    "#과제 제출"
   ]
  }
 ],
 "metadata": {
  "kernelspec": {
   "display_name": "Python 3 (ipykernel)",
   "language": "python",
   "name": "python3"
  },
  "language_info": {
   "codemirror_mode": {
    "name": "ipython",
    "version": 3
   },
   "file_extension": ".py",
   "mimetype": "text/x-python",
   "name": "python",
   "nbconvert_exporter": "python",
   "pygments_lexer": "ipython3",
   "version": "3.9.7"
  }
 },
 "nbformat": 4,
 "nbformat_minor": 5
}
