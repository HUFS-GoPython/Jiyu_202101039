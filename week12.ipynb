{
 "cells": [
  {
   "cell_type": "markdown",
   "id": "f7372182",
   "metadata": {},
   "source": [
    "### 매직메소드\n",
    "- special method\n",
    "- __<name>__\n",
    "- str, repr"
   ]
  },
  {
   "cell_type": "code",
   "execution_count": 1,
   "id": "06a50be4",
   "metadata": {},
   "outputs": [],
   "source": [
    "class Customer:\n",
    "    def __init__(self, name):\n",
    "        self.name = name\n",
    "\n",
    "c = Customer('kim')"
   ]
  },
  {
   "cell_type": "code",
   "execution_count": 2,
   "id": "debbf80f",
   "metadata": {},
   "outputs": [
    {
     "data": {
      "text/plain": [
       "<__main__.Customer at 0x267369c2460>"
      ]
     },
     "execution_count": 2,
     "metadata": {},
     "output_type": "execute_result"
    }
   ],
   "source": [
    "c "
   ]
  },
  {
   "cell_type": "code",
   "execution_count": 3,
   "id": "ec82ce1f",
   "metadata": {},
   "outputs": [
    {
     "name": "stdout",
     "output_type": "stream",
     "text": [
      "<__main__.Customer object at 0x00000267369C2460>\n"
     ]
    }
   ],
   "source": [
    "print(c)"
   ]
  },
  {
   "cell_type": "code",
   "execution_count": 4,
   "id": "c5c703c9",
   "metadata": {},
   "outputs": [],
   "source": [
    "class Customer: #object : 모든 클래스는 object를 상속받는데 생략하는 것\n",
    "    def __init__(self, name):\n",
    "        self.name = name\n",
    "        \n",
    "    def __str__(self): # 원래 object class에 있는 것 => override\n",
    "        #print()함수로 나온 출력값을 변경하는 것\n",
    "        return self.name\n",
    "    \n",
    "    def __repr__(self):\n",
    "        # 설정 안하면 __str__과 동일함\n",
    "        #인스턴스를 출력하는 방식 => 사용자가 이해하는 객체의 모습을 표현\n",
    "        return f'Customer ({self.name})'\n",
    "\n",
    "c = Customer('kim')"
   ]
  },
  {
   "cell_type": "code",
   "execution_count": 5,
   "id": "fb56085c",
   "metadata": {},
   "outputs": [
    {
     "data": {
      "text/plain": [
       "Customer (kim)"
      ]
     },
     "execution_count": 5,
     "metadata": {},
     "output_type": "execute_result"
    }
   ],
   "source": [
    "c"
   ]
  },
  {
   "cell_type": "code",
   "execution_count": 6,
   "id": "abc4bcfe",
   "metadata": {},
   "outputs": [
    {
     "data": {
      "text/plain": [
       "'Customer (kim)'"
      ]
     },
     "execution_count": 6,
     "metadata": {},
     "output_type": "execute_result"
    }
   ],
   "source": [
    "repr(c)"
   ]
  },
  {
   "cell_type": "code",
   "execution_count": 7,
   "id": "dba54fd6",
   "metadata": {},
   "outputs": [
    {
     "data": {
      "text/plain": [
       "'kim'"
      ]
     },
     "execution_count": 7,
     "metadata": {},
     "output_type": "execute_result"
    }
   ],
   "source": [
    "str(c)"
   ]
  },
  {
   "cell_type": "markdown",
   "id": "08b08a6c",
   "metadata": {},
   "source": [
    "### Named Tuple, DataClass\n",
    "- 객체보다 효율적임(간단한 속성만 가진 클래스일 경우 활용)\n",
    "- 딕셔너리의 키처럼 사용 가능하다. \n",
    "- 불변 객체"
   ]
  },
  {
   "cell_type": "code",
   "execution_count": 8,
   "id": "b6379a87",
   "metadata": {},
   "outputs": [
    {
     "data": {
      "text/plain": [
       "('lee', 44)"
      ]
     },
     "execution_count": 8,
     "metadata": {},
     "output_type": "execute_result"
    }
   ],
   "source": [
    "from collections import namedtuple\n",
    "#namedtuple 을 사용하기 위해서 필요한 import\n",
    "\n",
    "Customer = namedtuple('Customer', 'name age') #변수는 콤마가 아닌 공백으로 구분\n",
    "a = Customer('lee', 44)\n",
    "a.name, a.age"
   ]
  },
  {
   "cell_type": "code",
   "execution_count": 20,
   "id": "963c8c24",
   "metadata": {},
   "outputs": [
    {
     "data": {
      "text/plain": [
       "('hong', 88)"
      ]
     },
     "execution_count": 20,
     "metadata": {},
     "output_type": "execute_result"
    }
   ],
   "source": [
    "from dataclasses import dataclass\n",
    "#3.7이상에서만 사용이 가능하다 \n",
    "\n",
    "@dataclass \n",
    "class Customer2:\n",
    "    name: str\n",
    "    age: int\n",
    "        \n",
    "b = Customer2('hong', 88)\n",
    "b.name, b.age"
   ]
  },
  {
   "cell_type": "markdown",
   "id": "543aa0f1",
   "metadata": {},
   "source": [
    "### 함수 I\n",
    "- *, **\n",
    "- 일급객체\n",
    "- 내부함수, 클로저\n",
    "- 익명함수\n",
    "- 제너레이터\n",
    "- 재귀함수"
   ]
  },
  {
   "cell_type": "markdown",
   "id": "bb3fe278",
   "metadata": {},
   "source": [
    "#### asterisk : *\n",
    "- *는 여러 개의 인자가 들어왔을 때 하나로 패킹하는 역할을 한다."
   ]
  },
  {
   "cell_type": "code",
   "execution_count": 10,
   "id": "408a8d07",
   "metadata": {},
   "outputs": [
    {
     "name": "stdout",
     "output_type": "stream",
     "text": [
      "1 2 3 4 5\n",
      "(1, 2, 3, 4, 5)\n"
     ]
    }
   ],
   "source": [
    "def print_arg(*args): #*는 여러개를 패킹해준다.\n",
    "    print(*args) #언패킹하기도 함\n",
    "    print(args)\n",
    "print_arg(1, 2, 3, 4, 5)"
   ]
  },
  {
   "cell_type": "code",
   "execution_count": 12,
   "id": "0cdf6f43",
   "metadata": {},
   "outputs": [
    {
     "name": "stdout",
     "output_type": "stream",
     "text": [
      "1 2\n",
      "hi\n",
      "1 2\n",
      "\n"
     ]
    }
   ],
   "source": [
    "def print_more(num1, num2, *args):\n",
    "    print(num1, num2)\n",
    "    print(*args) #optional하다, 입력받으면 출력하고 그렇지 않으면 출력하지 않음\n",
    "    \n",
    "print_more(1, 2, 'hi')\n",
    "print_more(1,2)"
   ]
  },
  {
   "cell_type": "code",
   "execution_count": 13,
   "id": "e6176971",
   "metadata": {},
   "outputs": [
    {
     "name": "stdout",
     "output_type": "stream",
     "text": [
      "0 1 2 3 4 5 6 7 8 9\n"
     ]
    }
   ],
   "source": [
    "empty = list(range(10))\n",
    "print(*empty) #리스트가 아니라 하나하나 풀어서 출력해줌"
   ]
  },
  {
   "cell_type": "code",
   "execution_count": 14,
   "id": "01dbb149",
   "metadata": {},
   "outputs": [
    {
     "name": "stdout",
     "output_type": "stream",
     "text": [
      "(1, 3, 5)\n",
      "(2, 4, 6)\n"
     ]
    }
   ],
   "source": [
    "# 행렬, 테이블 데이터\n",
    "matrix = [\n",
    "    [1,2],\n",
    "    [3,4],\n",
    "    [5,6]\n",
    "]\n",
    "\n",
    "#1, 3, 5 / 2, 4, 6 (열만 타고 싶다)\n",
    "for item in zip(*matrix):\n",
    "    print(item)\n"
   ]
  },
  {
   "cell_type": "code",
   "execution_count": 15,
   "id": "5f79a424",
   "metadata": {},
   "outputs": [
    {
     "name": "stdout",
     "output_type": "stream",
     "text": [
      "(1, 3, 5)\n",
      "(2, 4, 6)\n"
     ]
    }
   ],
   "source": [
    "for item in zip([1,2], [3, 4], [5,6]):\n",
    "    print(item)"
   ]
  },
  {
   "cell_type": "code",
   "execution_count": 16,
   "id": "529463c6",
   "metadata": {},
   "outputs": [
    {
     "name": "stdout",
     "output_type": "stream",
     "text": [
      "0\n",
      "1\n",
      "2\n",
      "3\n"
     ]
    }
   ],
   "source": [
    "# 키워드 전용 인수 선언 시 사용\n",
    "# *뒤는 키워드 전용 인수\n",
    "def print_data(data, *,start, end):\n",
    "    for item in data[start:end]:\n",
    "        print(item)\n",
    "        \n",
    "print_data(empty, start=0, end=4)\n",
    "#print_data(empty, 0 ,1)"
   ]
  },
  {
   "cell_type": "markdown",
   "id": "b26591f1",
   "metadata": {},
   "source": [
    "#### kargs: **\n",
    "- 딕셔너리로 반환한다.\n",
    "- *와 달리 언패킹 기능은 없다."
   ]
  },
  {
   "cell_type": "code",
   "execution_count": 17,
   "id": "0e27d990",
   "metadata": {},
   "outputs": [
    {
     "name": "stdout",
     "output_type": "stream",
     "text": [
      "{'wine': 'crianza', 'drink': 'water'}\n"
     ]
    }
   ],
   "source": [
    "def print_kargs(**kargs): #키 : 값 => 딕셔너리로 반환\n",
    "    print(kargs)\n",
    "    #print(**kargs) X 언패킹 기능 없음\n",
    "print_kargs(wine = 'crianza', drink = 'water')"
   ]
  },
  {
   "cell_type": "code",
   "execution_count": 18,
   "id": "d30a0d22",
   "metadata": {},
   "outputs": [
    {
     "name": "stdout",
     "output_type": "stream",
     "text": [
      "{'wine': 'cabernet', 'drink': 'water'}\n",
      "{'wine': 'crianza', 'drink': 'water'}\n",
      "{'wine': 'shiraz', 'drink': 'water'}\n"
     ]
    }
   ],
   "source": [
    "for wine in ['cabernet', 'crianza', 'shiraz']:\n",
    "    print_kargs(wine = wine, drink = 'water') #정해줄 수 있음"
   ]
  },
  {
   "cell_type": "code",
   "execution_count": 19,
   "id": "06bd46de",
   "metadata": {},
   "outputs": [
    {
     "name": "stdout",
     "output_type": "stream",
     "text": [
      "1 2\n",
      "18\n",
      "{'num': 4}\n"
     ]
    }
   ],
   "source": [
    "def print_all (num1, num2, *args, **kargs):\n",
    "    print(num1, num2)\n",
    "    print(sum(args))\n",
    "    print(kargs)\n",
    "    \n",
    "#print_all(1, 2, 3, 4, 5, 6, num1 = 4, num2 = 4)#오류\n",
    "print_all(1, 2, 3, 4, 5, 6, num = 4)"
   ]
  },
  {
   "cell_type": "code",
   "execution_count": 20,
   "id": "73f91619",
   "metadata": {},
   "outputs": [],
   "source": [
    "a = {1:'a',2:'b'}\n",
    "b = {2:'c', 3:'d'}\n",
    "c = {**a, **b}"
   ]
  },
  {
   "cell_type": "code",
   "execution_count": 21,
   "id": "aadc26a7",
   "metadata": {},
   "outputs": [
    {
     "name": "stdout",
     "output_type": "stream",
     "text": [
      "{1: 'a', 2: 'c', 3: 'd'}\n"
     ]
    }
   ],
   "source": [
    "print(c) "
   ]
  },
  {
   "cell_type": "code",
   "execution_count": null,
   "id": "16105edd",
   "metadata": {},
   "outputs": [],
   "source": []
  }
 ],
 "metadata": {
  "kernelspec": {
   "display_name": "Python 3 (ipykernel)",
   "language": "python",
   "name": "python3"
  },
  "language_info": {
   "codemirror_mode": {
    "name": "ipython",
    "version": 3
   },
   "file_extension": ".py",
   "mimetype": "text/x-python",
   "name": "python",
   "nbconvert_exporter": "python",
   "pygments_lexer": "ipython3",
   "version": "3.9.7"
  }
 },
 "nbformat": 4,
 "nbformat_minor": 5
}
