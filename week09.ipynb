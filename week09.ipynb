{
 "cells": [
  {
   "cell_type": "markdown",
   "id": "1b8b161a",
   "metadata": {},
   "source": [
    "## Dictionary\n",
    "- 영어 사전 \n",
    "    - 단어: 뜻\n",
    "    - 키 : 값\n",
    "    - 순서가 없다. => 인덱싱 불가능\n",
    "    - '키로 값을 찾는다.'\n",
    "        - 키는 중복되지 않는 고유한 값\n",
    "    - 가변: 수정, 삭제, 추가 가능 \n",
    "    - 타입: dict\n",
    "    - 형변환 : dict()\n",
    "    - 중괄호 사용 {}, 콤마로 구분\n",
    "    - 값에 다양한 자료구조가 올 수 있음\n",
    "        - a : 1, a : [1, 2, 3, 4]\n",
    "        "
   ]
  },
  {
   "cell_type": "code",
   "execution_count": 1,
   "id": "6a23e10b",
   "metadata": {},
   "outputs": [
    {
     "data": {
      "text/plain": [
       "1"
      ]
     },
     "execution_count": 1,
     "metadata": {},
     "output_type": "execute_result"
    }
   ],
   "source": [
    "#리스트는 인덱싱 가능\n",
    "a = [1, 2, 3]\n",
    "a[0]"
   ]
  },
  {
   "cell_type": "code",
   "execution_count": 2,
   "id": "a4b30e2f",
   "metadata": {},
   "outputs": [],
   "source": [
    "empty = dict()\n",
    "empty = {} #dict type\n",
    "#set도 {}을 씀 \n",
    "empty = set() #set은 이렇게\n"
   ]
  },
  {
   "cell_type": "code",
   "execution_count": 13,
   "id": "0d8f4c22",
   "metadata": {},
   "outputs": [
    {
     "name": "stdout",
     "output_type": "stream",
     "text": [
      "{1, 2, 3} {1: 'apple', 2: 'banana', 3: 'kiwi'}\n",
      "<class 'set'> <class 'dict'>\n"
     ]
    }
   ],
   "source": [
    "#값이 있을 때 선언하는 방법 \n",
    "a1 = {1, 2, 3} #set \n",
    "a2 = {1 :'apple', 2 : 'banana', 3 : 'kiwi'} #dict\n",
    "print(a1, a2)\n",
    "print(type(a1), type(a2))"
   ]
  },
  {
   "cell_type": "code",
   "execution_count": 14,
   "id": "94a2a4f2",
   "metadata": {},
   "outputs": [
    {
     "data": {
      "text/plain": [
       "{'apple': 'a'}"
      ]
     },
     "execution_count": 14,
     "metadata": {},
     "output_type": "execute_result"
    }
   ],
   "source": [
    "b = dict(apple = 'a') #dict라고 선언하면 key값 '' 없어도 됨\n",
    "b"
   ]
  },
  {
   "cell_type": "markdown",
   "id": "ad303e4e",
   "metadata": {},
   "source": [
    "### Quiz \n",
    "- 출석부로 딕셔너리 만들기\n",
    "- 이름, 학번, 학과 \n",
    "- james 202201 경제학과\n",
    "- laura 202203 스페인어과\n",
    "- louis 202202 컴공과 "
   ]
  },
  {
   "cell_type": "code",
   "execution_count": 15,
   "id": "57ec037c",
   "metadata": {},
   "outputs": [],
   "source": [
    "#내 답\n",
    "students = {'james' : ['202201', '경제학과'], 'laura' :['202203', '스페인어과'],'louis' : ['202202', '컴공과']}\n",
    "#이름으로 key를 잡아서 탈락,,,"
   ]
  },
  {
   "cell_type": "code",
   "execution_count": 11,
   "id": "a22299c2",
   "metadata": {},
   "outputs": [
    {
     "data": {
      "text/plain": [
       "{'james': ['202201', '경제학과'],\n",
       " 'laura': ['202203', '스페인어과'],\n",
       " 'louis': ['202202', '컴공과']}"
      ]
     },
     "execution_count": 11,
     "metadata": {},
     "output_type": "execute_result"
    }
   ],
   "source": [
    "students"
   ]
  },
  {
   "cell_type": "code",
   "execution_count": 1,
   "id": "8856eccd",
   "metadata": {},
   "outputs": [
    {
     "data": {
      "text/plain": [
       "{202201: ['james', '경제학과'],\n",
       " 202202: ['louis', '컴공과'],\n",
       " 202203: ['laura', '스페인어과']}"
      ]
     },
     "execution_count": 1,
     "metadata": {},
     "output_type": "execute_result"
    }
   ],
   "source": [
    "# 좋은 답\n",
    "# 이름은 중복될 수 있으므로 고유한 학번을 기준으로\n",
    "attend = {202201 : ['james', '경제학과'], 202202: ['louis','컴공과'], 202203 : ['laura', '스페인어과']}\n",
    "attend"
   ]
  },
  {
   "cell_type": "markdown",
   "id": "1527686a",
   "metadata": {},
   "source": [
    "## 형 변환 "
   ]
  },
  {
   "cell_type": "code",
   "execution_count": 16,
   "id": "efdde799",
   "metadata": {},
   "outputs": [
    {
     "data": {
      "text/plain": [
       "{1: 2, 2: 3, 3: 4}"
      ]
     },
     "execution_count": 16,
     "metadata": {},
     "output_type": "execute_result"
    }
   ],
   "source": [
    "ex1 = [[1,2], [2, 3], [3, 4]]\n",
    "dict(ex1)"
   ]
  },
  {
   "cell_type": "code",
   "execution_count": 17,
   "id": "574cc91d",
   "metadata": {},
   "outputs": [
    {
     "data": {
      "text/plain": [
       "{1: 3, 2: 3}"
      ]
     },
     "execution_count": 17,
     "metadata": {},
     "output_type": "execute_result"
    }
   ],
   "source": [
    "ex2 = [[1,2], [2, 3], [1, 3]]\n",
    "dict(ex2)"
   ]
  },
  {
   "cell_type": "code",
   "execution_count": 18,
   "id": "6190d87b",
   "metadata": {},
   "outputs": [
    {
     "data": {
      "text/plain": [
       "{'a': 'b', 'b': 'c', 'c': 'd'}"
      ]
     },
     "execution_count": 18,
     "metadata": {},
     "output_type": "execute_result"
    }
   ],
   "source": [
    "ex3 = ['ab', 'bc', 'cd']#두개까지는 가능 #세개 부터 오류\n",
    "dict(ex3)"
   ]
  },
  {
   "cell_type": "code",
   "execution_count": 2,
   "id": "3f36235c",
   "metadata": {},
   "outputs": [
    {
     "ename": "ValueError",
     "evalue": "dictionary update sequence element #0 has length 3; 2 is required",
     "output_type": "error",
     "traceback": [
      "\u001b[1;31m---------------------------------------------------------------------------\u001b[0m",
      "\u001b[1;31mValueError\u001b[0m                                Traceback (most recent call last)",
      "\u001b[1;32m~\\AppData\\Local\\Temp/ipykernel_10800/3454021878.py\u001b[0m in \u001b[0;36m<module>\u001b[1;34m\u001b[0m\n\u001b[0;32m      1\u001b[0m \u001b[0mex4\u001b[0m \u001b[1;33m=\u001b[0m \u001b[1;33m[\u001b[0m\u001b[1;34m'abc'\u001b[0m\u001b[1;33m,\u001b[0m\u001b[1;34m'cde'\u001b[0m\u001b[1;33m,\u001b[0m\u001b[1;34m'efg'\u001b[0m\u001b[1;33m]\u001b[0m\u001b[1;33m\u001b[0m\u001b[1;33m\u001b[0m\u001b[0m\n\u001b[1;32m----> 2\u001b[1;33m \u001b[0mdict\u001b[0m\u001b[1;33m(\u001b[0m\u001b[0mex4\u001b[0m\u001b[1;33m)\u001b[0m\u001b[1;33m\u001b[0m\u001b[1;33m\u001b[0m\u001b[0m\n\u001b[0m",
      "\u001b[1;31mValueError\u001b[0m: dictionary update sequence element #0 has length 3; 2 is required"
     ]
    }
   ],
   "source": [
    "ex4 = ['abc','cde','efg'] #세개 오류\n",
    "dict(ex4)"
   ]
  },
  {
   "cell_type": "markdown",
   "id": "2e0ce05c",
   "metadata": {},
   "source": [
    "## 항복 조회 & 변경"
   ]
  },
  {
   "cell_type": "code",
   "execution_count": 4,
   "id": "be6e053f",
   "metadata": {},
   "outputs": [],
   "source": [
    "pythons = {\n",
    "    'Chapman':\"Graham\",\n",
    "    'Cleese' :'John',\n",
    "    'Idle' :'Eric',\n",
    "    'Johnes':'Terry',\n",
    "    'Palin' : 'Michael'\n",
    "}"
   ]
  },
  {
   "cell_type": "code",
   "execution_count": 5,
   "id": "620fcac7",
   "metadata": {},
   "outputs": [
    {
     "data": {
      "text/plain": [
       "'Eric'"
      ]
     },
     "execution_count": 5,
     "metadata": {},
     "output_type": "execute_result"
    }
   ],
   "source": [
    "#key에 대응하는 value 반환\n",
    "pythons['Idle']"
   ]
  },
  {
   "cell_type": "code",
   "execution_count": 6,
   "id": "91a5000e",
   "metadata": {},
   "outputs": [
    {
     "data": {
      "text/plain": [
       "{'Chapman': 'Graham',\n",
       " 'Cleese': 'John',\n",
       " 'Idle': 'Eric',\n",
       " 'Johnes': 'Terry',\n",
       " 'Palin': 'Michael',\n",
       " 'Hwa': 'Chloe'}"
      ]
     },
     "execution_count": 6,
     "metadata": {},
     "output_type": "execute_result"
    }
   ],
   "source": [
    "pythons['Hwa'] = 'Chloe' #추가\n",
    "pythons"
   ]
  },
  {
   "cell_type": "code",
   "execution_count": 7,
   "id": "903bc90e",
   "metadata": {},
   "outputs": [
    {
     "data": {
      "text/plain": [
       "{'Chapman': 'Graham',\n",
       " 'Cleese': 'John',\n",
       " 'Idle': 'James',\n",
       " 'Johnes': 'Terry',\n",
       " 'Palin': 'Michael',\n",
       " 'Hwa': 'Chloe'}"
      ]
     },
     "execution_count": 7,
     "metadata": {},
     "output_type": "execute_result"
    }
   ],
   "source": [
    "pythons['Idle'] = 'James' #변경\n",
    "pythons"
   ]
  },
  {
   "cell_type": "markdown",
   "id": "d282892f",
   "metadata": {},
   "source": [
    "### 에러 방지"
   ]
  },
  {
   "cell_type": "code",
   "execution_count": 26,
   "id": "b1648cc1",
   "metadata": {},
   "outputs": [
    {
     "data": {
      "text/plain": [
       "True"
      ]
     },
     "execution_count": 26,
     "metadata": {},
     "output_type": "execute_result"
    }
   ],
   "source": [
    "# in을 써서 예외 없이\n",
    "'Hwa' in pythons"
   ]
  },
  {
   "cell_type": "code",
   "execution_count": 27,
   "id": "adfb79c4",
   "metadata": {},
   "outputs": [
    {
     "data": {
      "text/plain": [
       "0"
      ]
     },
     "execution_count": 27,
     "metadata": {},
     "output_type": "execute_result"
    }
   ],
   "source": [
    "# get() 을 써서 \n",
    "pythons.get('Lee', 0) #없는 키는 None 반환 #원하는 반환값 설정 가능"
   ]
  },
  {
   "cell_type": "markdown",
   "id": "5fcf9d68",
   "metadata": {},
   "source": [
    "### 전체조회\n",
    "- keys()\n",
    "- values()\n",
    "- items()"
   ]
  },
  {
   "cell_type": "code",
   "execution_count": 28,
   "id": "96572e55",
   "metadata": {},
   "outputs": [
    {
     "data": {
      "text/plain": [
       "dict_keys(['Chapman', 'Cleese', 'Idle', 'Johnes', 'Palin', 'Hwa'])"
      ]
     },
     "execution_count": 28,
     "metadata": {},
     "output_type": "execute_result"
    }
   ],
   "source": [
    "pythons.keys() #key들을 반환"
   ]
  },
  {
   "cell_type": "code",
   "execution_count": 29,
   "id": "f4714ed5",
   "metadata": {},
   "outputs": [
    {
     "data": {
      "text/plain": [
       "dict_values(['Graham', 'John', 'James', 'Terry', 'Michael', 'Chloe'])"
      ]
     },
     "execution_count": 29,
     "metadata": {},
     "output_type": "execute_result"
    }
   ],
   "source": [
    "pythons.values() #values들을 반환"
   ]
  },
  {
   "cell_type": "code",
   "execution_count": 30,
   "id": "2dc5cac2",
   "metadata": {},
   "outputs": [
    {
     "data": {
      "text/plain": [
       "dict_items([('Chapman', 'Graham'), ('Cleese', 'John'), ('Idle', 'James'), ('Johnes', 'Terry'), ('Palin', 'Michael'), ('Hwa', 'Chloe')])"
      ]
     },
     "execution_count": 30,
     "metadata": {},
     "output_type": "execute_result"
    }
   ],
   "source": [
    "pythons.items() #(키, 값) 튜플 형태로 => 순회 많이 씀"
   ]
  },
  {
   "cell_type": "code",
   "execution_count": 32,
   "id": "5d46085e",
   "metadata": {},
   "outputs": [
    {
     "data": {
      "text/plain": [
       "['Chapman', 'Cleese', 'Idle', 'Johnes', 'Palin', 'Hwa']"
      ]
     },
     "execution_count": 32,
     "metadata": {},
     "output_type": "execute_result"
    }
   ],
   "source": [
    "list(pythons.keys()) #리스트로 변환"
   ]
  },
  {
   "cell_type": "markdown",
   "id": "610a2e43",
   "metadata": {},
   "source": [
    "### 순회"
   ]
  },
  {
   "cell_type": "code",
   "execution_count": 33,
   "id": "ab3de173",
   "metadata": {},
   "outputs": [
    {
     "name": "stdout",
     "output_type": "stream",
     "text": [
      "Chapman =Graham\n",
      "Cleese =John\n",
      "Idle =James\n",
      "Johnes =Terry\n",
      "Palin =Michael\n",
      "Hwa =Chloe\n"
     ]
    }
   ],
   "source": [
    "for k, v in pythons.items():\n",
    "    print(f'{k} ={v}')"
   ]
  },
  {
   "cell_type": "code",
   "execution_count": 34,
   "id": "09e18ef8",
   "metadata": {},
   "outputs": [
    {
     "data": {
      "text/plain": [
       "[('Chapman', 'Graham'),\n",
       " ('Cleese', 'John'),\n",
       " ('Idle', 'James'),\n",
       " ('Johnes', 'Terry'),\n",
       " ('Palin', 'Michael'),\n",
       " ('Hwa', 'Chloe')]"
      ]
     },
     "execution_count": 34,
     "metadata": {},
     "output_type": "execute_result"
    }
   ],
   "source": [
    "[(k,v) for k, v in pythons.items()] #리스트 컴프리헨션 활용"
   ]
  },
  {
   "cell_type": "code",
   "execution_count": 8,
   "id": "478b8178",
   "metadata": {},
   "outputs": [
    {
     "name": "stdout",
     "output_type": "stream",
     "text": [
      "[('Chapman', 'Graham'), ('Cleese', 'John'), ('Idle', 'James'), ('Johnes', 'Terry'), ('Palin', 'Michael'), ('Hwa', 'Chloe')]\n",
      "['Chapman', 'Cleese', 'Idle', 'Johnes', 'Palin', 'Hwa']\n",
      "['Chapman', 'Cleese', 'Idle', 'Johnes', 'Palin', 'Hwa']\n"
     ]
    }
   ],
   "source": [
    "a1 = [k for k in pythons.items()]\n",
    "a2 = [k[0] for k in pythons.items()] #key = 0, value = 1\n",
    "a3 = [k for k in pythons] #아무것도 없이 돌면 key 값만\n",
    "print(a1)\n",
    "print(a2)\n",
    "print(a3)"
   ]
  },
  {
   "cell_type": "markdown",
   "id": "3a9ee3fc",
   "metadata": {},
   "source": [
    "## Quiz 2\n",
    "- animal:num_leg 라는 딕셔너리를 만들기"
   ]
  },
  {
   "cell_type": "code",
   "execution_count": 11,
   "id": "7338d63d",
   "metadata": {},
   "outputs": [],
   "source": [
    "animal = 'cat snake monkey ant spider'.split()\n",
    "legs = 4, 0, 2, 4, 8"
   ]
  },
  {
   "cell_type": "code",
   "execution_count": 12,
   "id": "dfe81903",
   "metadata": {},
   "outputs": [
    {
     "data": {
      "text/plain": [
       "{'cat': 4, 'snake': 0, 'monkey': 2, 'ant': 4, 'spider': 8}"
      ]
     },
     "execution_count": 12,
     "metadata": {},
     "output_type": "execute_result"
    }
   ],
   "source": [
    "dics = {}\n",
    "for i in range(len(animal)):\n",
    "    dics[animal[i]] = legs[i]\n",
    "dics"
   ]
  },
  {
   "cell_type": "markdown",
   "id": "425a0cca",
   "metadata": {},
   "source": [
    "## Quiz 3\n",
    "- pythons에서 성: 이름\n",
    "- 성 첫 글자만,\n",
    "- 이름은 글자 개수로 이루어진 튜플(성, 이름) 리스트로 반환 \n",
    "- dict comprehension 쓰지 말기"
   ]
  },
  {
   "cell_type": "code",
   "execution_count": 90,
   "id": "020862c4",
   "metadata": {},
   "outputs": [],
   "source": [
    "#[(),()]형태 => items()"
   ]
  },
  {
   "cell_type": "code",
   "execution_count": 15,
   "id": "02c7a71d",
   "metadata": {},
   "outputs": [
    {
     "data": {
      "text/plain": [
       "[('C', 6), ('C', 4), ('I', 5), ('J', 5), ('P', 7), ('H', 5)]"
      ]
     },
     "execution_count": 15,
     "metadata": {},
     "output_type": "execute_result"
    }
   ],
   "source": [
    "# 빈 리스트 선언\n",
    "name = []\n",
    "for k, v in pythons.items():\n",
    "    name.append((k[0], len(v)))\n",
    "name"
   ]
  },
  {
   "cell_type": "code",
   "execution_count": 16,
   "id": "332c7bb5",
   "metadata": {},
   "outputs": [
    {
     "data": {
      "text/plain": [
       "[('C', 6), ('C', 4), ('I', 5), ('J', 5), ('P', 7), ('H', 5)]"
      ]
     },
     "execution_count": 16,
     "metadata": {},
     "output_type": "execute_result"
    }
   ],
   "source": [
    "[(key[0], len(value)) for key, value in pythons.items()]"
   ]
  },
  {
   "cell_type": "markdown",
   "id": "cac0441b",
   "metadata": {},
   "source": [
    "### 값 수정, 삭제, 복제, 비교"
   ]
  },
  {
   "cell_type": "code",
   "execution_count": 94,
   "id": "ca6eabc2",
   "metadata": {},
   "outputs": [
    {
     "data": {
      "text/plain": [
       "{'Chapman': 'Graham',\n",
       " 'Cleese': 'John',\n",
       " 'Idle': 'James',\n",
       " 'Johnes': 'Terry',\n",
       " 'Palin': 'Michael',\n",
       " 'Hwa': 'Chloe'}"
      ]
     },
     "execution_count": 94,
     "metadata": {},
     "output_type": "execute_result"
    }
   ],
   "source": [
    "pythons "
   ]
  },
  {
   "cell_type": "code",
   "execution_count": 96,
   "id": "b1d641c9",
   "metadata": {},
   "outputs": [],
   "source": [
    "others = {\n",
    "    'Marx':'Groucho',\n",
    "    'Howard':'Moe'\n",
    "}"
   ]
  },
  {
   "cell_type": "code",
   "execution_count": 98,
   "id": "67df8d14",
   "metadata": {},
   "outputs": [
    {
     "data": {
      "text/plain": [
       "{'Chapman': 'Graham',\n",
       " 'Cleese': 'John',\n",
       " 'Idle': 'James',\n",
       " 'Johnes': 'Terry',\n",
       " 'Palin': 'Michael',\n",
       " 'Hwa': 'Chloe',\n",
       " 'Marx': 'Groucho',\n",
       " 'Howard': 'Moe'}"
      ]
     },
     "execution_count": 98,
     "metadata": {},
     "output_type": "execute_result"
    }
   ],
   "source": [
    "pythons.update(others ) #뒤로 붙여줌\n",
    "pythons"
   ]
  },
  {
   "cell_type": "code",
   "execution_count": 99,
   "id": "da3271c7",
   "metadata": {},
   "outputs": [
    {
     "data": {
      "text/plain": [
       "{'Marx': 'Groucho',\n",
       " 'Howard': 'Moe',\n",
       " 'Chapman': 'Graham',\n",
       " 'Cleese': 'John',\n",
       " 'Idle': 'James',\n",
       " 'Johnes': 'Terry',\n",
       " 'Palin': 'Michael',\n",
       " 'Hwa': 'Chloe'}"
      ]
     },
     "execution_count": 99,
     "metadata": {},
     "output_type": "execute_result"
    }
   ],
   "source": [
    "{**others, **pythons} #앞으로 붙여줌"
   ]
  },
  {
   "cell_type": "code",
   "execution_count": 100,
   "id": "5d359351",
   "metadata": {},
   "outputs": [
    {
     "data": {
      "text/plain": [
       "{'Chapman': 'Graham',\n",
       " 'Cleese': 'John',\n",
       " 'Idle': 'James',\n",
       " 'Johnes': 'Terry',\n",
       " 'Palin': 'Michael',\n",
       " 'Marx': 'Groucho',\n",
       " 'Howard': 'Moe'}"
      ]
     },
     "execution_count": 100,
     "metadata": {},
     "output_type": "execute_result"
    }
   ],
   "source": [
    "del pythons['Hwa'] #삭제\n",
    "pythons"
   ]
  },
  {
   "cell_type": "code",
   "execution_count": 101,
   "id": "08a74b2b",
   "metadata": {},
   "outputs": [
    {
     "ename": "KeyError",
     "evalue": "'Lee'",
     "output_type": "error",
     "traceback": [
      "\u001b[1;31m---------------------------------------------------------------------------\u001b[0m",
      "\u001b[1;31mKeyError\u001b[0m                                  Traceback (most recent call last)",
      "\u001b[1;32m~\\AppData\\Local\\Temp/ipykernel_14580/2522327117.py\u001b[0m in \u001b[0;36m<module>\u001b[1;34m\u001b[0m\n\u001b[1;32m----> 1\u001b[1;33m \u001b[1;32mdel\u001b[0m \u001b[0mpythons\u001b[0m\u001b[1;33m[\u001b[0m\u001b[1;34m'Lee'\u001b[0m\u001b[1;33m]\u001b[0m\u001b[1;33m\u001b[0m\u001b[1;33m\u001b[0m\u001b[0m\n\u001b[0m",
      "\u001b[1;31mKeyError\u001b[0m: 'Lee'"
     ]
    }
   ],
   "source": [
    "del pythons['Lee'] #없는 요소 -> 에러남"
   ]
  },
  {
   "cell_type": "code",
   "execution_count": 102,
   "id": "ea4f9749",
   "metadata": {},
   "outputs": [
    {
     "data": {
      "text/plain": [
       "'Groucho'"
      ]
     },
     "execution_count": 102,
     "metadata": {},
     "output_type": "execute_result"
    }
   ],
   "source": [
    "pythons.pop('Marx')"
   ]
  },
  {
   "cell_type": "code",
   "execution_count": 103,
   "id": "51b36acc",
   "metadata": {},
   "outputs": [
    {
     "data": {
      "text/plain": [
       "0"
      ]
     },
     "execution_count": 103,
     "metadata": {},
     "output_type": "execute_result"
    }
   ],
   "source": [
    "pythons.pop('Lee',0)#없으면 예외는 나지만, 예외 시 출력 값을 지정할 수 있다."
   ]
  },
  {
   "cell_type": "code",
   "execution_count": 104,
   "id": "e53aa214",
   "metadata": {},
   "outputs": [
    {
     "data": {
      "text/plain": [
       "{}"
      ]
     },
     "execution_count": 104,
     "metadata": {},
     "output_type": "execute_result"
    }
   ],
   "source": [
    "#전체 삭제\n",
    "pythons.clear() #clear나\n",
    "pythons = {}#빈 딕셔너리를 선언\n",
    "pythons"
   ]
  },
  {
   "cell_type": "markdown",
   "id": "27896509",
   "metadata": {},
   "source": [
    "### 복제 \n",
    "- 할당\n",
    "- 얕은 복사\n",
    "- 깊은 복사"
   ]
  },
  {
   "cell_type": "code",
   "execution_count": 105,
   "id": "645fdfbe",
   "metadata": {},
   "outputs": [
    {
     "data": {
      "text/plain": [
       "({1: 45, 2: 2, 3: 3}, {1: 45, 2: 2, 3: 3})"
      ]
     },
     "execution_count": 105,
     "metadata": {},
     "output_type": "execute_result"
    }
   ],
   "source": [
    "a = {1:1, 2:2, 3:3}\n",
    "b =a \n",
    "a[1] =45\n",
    "a, b #같은 주소를 공유하기 때문에"
   ]
  },
  {
   "cell_type": "code",
   "execution_count": 106,
   "id": "7cf1425b",
   "metadata": {},
   "outputs": [
    {
     "data": {
      "text/plain": [
       "({1: 45, 2: 22, 3: 3}, {1: 45, 2: 2, 3: 3})"
      ]
     },
     "execution_count": 106,
     "metadata": {},
     "output_type": "execute_result"
    }
   ],
   "source": [
    "#얕은 복사 \n",
    "c = a.copy()\n",
    "a[2] = 22\n",
    "a, c"
   ]
  },
  {
   "cell_type": "code",
   "execution_count": 107,
   "id": "435bb675",
   "metadata": {},
   "outputs": [
    {
     "data": {
      "text/plain": [
       "({1: [100, 2, 3], 2: [2, 3, 4]}, {1: [100, 2, 3], 2: [2, 3, 4]})"
      ]
     },
     "execution_count": 107,
     "metadata": {},
     "output_type": "execute_result"
    }
   ],
   "source": [
    "a = {1:[1, 2, 3], 2:[2, 3, 4]}\n",
    "d = a.copy()\n",
    "a[1][0] =100\n",
    "a ,d #얕은 복사의 문제점"
   ]
  },
  {
   "cell_type": "code",
   "execution_count": 108,
   "id": "10c7b15a",
   "metadata": {},
   "outputs": [
    {
     "data": {
      "text/plain": [
       "({1: [100, 999, 3], 2: [2, 3, 4]}, {1: [100, 2, 3], 2: [2, 3, 4]})"
      ]
     },
     "execution_count": 108,
     "metadata": {},
     "output_type": "execute_result"
    }
   ],
   "source": [
    "#깊은 복사 \n",
    "import copy\n",
    "e = copy.deepcopy(a)\n",
    "a[1][1] = 999\n",
    "a, e"
   ]
  },
  {
   "cell_type": "markdown",
   "id": "ebcbc5f9",
   "metadata": {},
   "source": [
    "### 비교\n",
    "- 같다, 다르다만 된다.\n",
    "- 크고 작음은 안된다."
   ]
  },
  {
   "cell_type": "code",
   "execution_count": 109,
   "id": "70859165",
   "metadata": {},
   "outputs": [
    {
     "data": {
      "text/plain": [
       "True"
      ]
     },
     "execution_count": 109,
     "metadata": {},
     "output_type": "execute_result"
    }
   ],
   "source": [
    "a != b"
   ]
  },
  {
   "cell_type": "code",
   "execution_count": 110,
   "id": "97a579e6",
   "metadata": {},
   "outputs": [
    {
     "ename": "TypeError",
     "evalue": "'>' not supported between instances of 'dict' and 'dict'",
     "output_type": "error",
     "traceback": [
      "\u001b[1;31m---------------------------------------------------------------------------\u001b[0m",
      "\u001b[1;31mTypeError\u001b[0m                                 Traceback (most recent call last)",
      "\u001b[1;32m~\\AppData\\Local\\Temp/ipykernel_14580/4130518326.py\u001b[0m in \u001b[0;36m<module>\u001b[1;34m\u001b[0m\n\u001b[1;32m----> 1\u001b[1;33m \u001b[0ma\u001b[0m \u001b[1;33m>\u001b[0m \u001b[0mb\u001b[0m\u001b[1;33m\u001b[0m\u001b[1;33m\u001b[0m\u001b[0m\n\u001b[0m",
      "\u001b[1;31mTypeError\u001b[0m: '>' not supported between instances of 'dict' and 'dict'"
     ]
    }
   ],
   "source": [
    "a > b #크고 작음 비교 => 에러가 남"
   ]
  },
  {
   "cell_type": "markdown",
   "id": "a6ccd591",
   "metadata": {},
   "source": [
    "### Quiz 4\n",
    "- 두 리스트로 하나의 딕셔너리 생성 \n",
    "- 명왕성 = pluto 추가하기\n",
    "- '성'으로 끝나지 않는 키 삭제하기 \n",
    "- sorted 이용해서 값 정렬하기 "
   ]
  },
  {
   "cell_type": "code",
   "execution_count": 17,
   "id": "37f8f56e",
   "metadata": {},
   "outputs": [],
   "source": [
    "solar_kor = '태양 수성 금성 지구 화성 목성 토성 천왕성 해왕성'.split()\n",
    "solar_eng = 'sun mercury venus earth mars jupiter saturn uranus neptune'.split()"
   ]
  },
  {
   "cell_type": "code",
   "execution_count": 18,
   "id": "8ad50824",
   "metadata": {},
   "outputs": [
    {
     "name": "stdout",
     "output_type": "stream",
     "text": [
      "{'금성': 'venus', '명왕성': 'pluto', '목성': 'jupiter', '수성': 'mercury', '천왕성': 'uranus', '토성': 'saturn', '해왕성': 'neptune', '화성': 'mars'}\n"
     ]
    }
   ],
   "source": [
    "# 내 답안\n",
    "univ = {}\n",
    "for i in range(len(solar_kor)):\n",
    "    univ[solar_kor[i]] = solar_eng[i]\n",
    "    \n",
    "plus = {'명왕성' : 'pluto' } #feedback:하나인데 굳이 update를 쓸 필요가 없다. \n",
    "univ.update(plus)\n",
    "    \n",
    "univ = dict (sorted([(i, k) for i, k in univ.items() if '성' in i]))\n",
    "print(univ)"
   ]
  },
  {
   "cell_type": "code",
   "execution_count": 152,
   "id": "6a6e46c0",
   "metadata": {},
   "outputs": [
    {
     "data": {
      "text/plain": [
       "[('수성', 'mercury'),\n",
       " ('금성', 'venus'),\n",
       " ('화성', 'mars'),\n",
       " ('목성', 'jupiter'),\n",
       " ('토성', 'saturn'),\n",
       " ('천왕성', 'uranus'),\n",
       " ('해왕성', 'neptune'),\n",
       " ('명왕성', 'pluto')]"
      ]
     },
     "execution_count": 152,
     "metadata": {},
     "output_type": "execute_result"
    }
   ],
   "source": [
    "## 모범답안 \n",
    "system = {}\n",
    "for k, v in zip(solar_kor, solar_eng):\n",
    "    system[k] = v\n",
    "    \n",
    "system['명왕성'] = 'pluto'\n",
    "\n",
    "[(k,system[k])for k in system if k.endswith('성')]\n",
    "#dict[(k, v) for k, v in system.itmes() if k.endswith('성')]"
   ]
  },
  {
   "cell_type": "code",
   "execution_count": 166,
   "id": "ae201db3",
   "metadata": {},
   "outputs": [
    {
     "data": {
      "text/plain": [
       "{'수성': 'mercury',\n",
       " '금성': 'venus',\n",
       " '화성': 'mars',\n",
       " '목성': 'jupiter',\n",
       " '토성': 'saturn',\n",
       " '천왕성': 'uranus',\n",
       " '해왕성': 'neptune',\n",
       " '명왕성': 'pluto'}"
      ]
     },
     "execution_count": 166,
     "metadata": {},
     "output_type": "execute_result"
    }
   ],
   "source": [
    "#comprehension\n",
    "{k:v for k, v in system.items() if k.endswith('성')}"
   ]
  },
  {
   "cell_type": "markdown",
   "id": "8bf7a83d",
   "metadata": {},
   "source": [
    "## dict comprehension"
   ]
  },
  {
   "cell_type": "code",
   "execution_count": 153,
   "id": "349e4862",
   "metadata": {},
   "outputs": [
    {
     "data": {
      "text/plain": [
       "{'a': 1, 'p': 2, 'l': 1, 'e': 1}"
      ]
     },
     "execution_count": 153,
     "metadata": {},
     "output_type": "execute_result"
    }
   ],
   "source": [
    "letter = 'apple'\n",
    "#a:1, p:2\n",
    "{ch:letter.count(ch) for ch in letter}"
   ]
  },
  {
   "cell_type": "code",
   "execution_count": 154,
   "id": "fc40d2c9",
   "metadata": {},
   "outputs": [],
   "source": [
    "#단어의 모음 세기\n",
    "vowels = 'aeiou'\n",
    "word = 'onomatopoeia'"
   ]
  },
  {
   "cell_type": "code",
   "execution_count": 159,
   "id": "18e50fad",
   "metadata": {},
   "outputs": [
    {
     "data": {
      "text/plain": [
       "{'o': 4, 'a': 2, 'e': 1, 'i': 1}"
      ]
     },
     "execution_count": 159,
     "metadata": {},
     "output_type": "execute_result"
    }
   ],
   "source": [
    "# 내 답\n",
    "{w:word.count(w) for w in word if w in vowels}"
   ]
  },
  {
   "cell_type": "code",
   "execution_count": 162,
   "id": "0d14e058",
   "metadata": {},
   "outputs": [
    {
     "data": {
      "text/plain": [
       "{'a': 2, 'e': 1, 'i': 1, 'o': 4}"
      ]
     },
     "execution_count": 162,
     "metadata": {},
     "output_type": "execute_result"
    }
   ],
   "source": [
    "#모범 답안 \n",
    "{v:word.count(v) for v in vowels if v in word}"
   ]
  },
  {
   "cell_type": "code",
   "execution_count": 164,
   "id": "ebab236b",
   "metadata": {},
   "outputs": [
    {
     "data": {
      "text/plain": [
       "{'o': 4, 'i': 1, 'a': 2, 'e': 1}"
      ]
     },
     "execution_count": 164,
     "metadata": {},
     "output_type": "execute_result"
    }
   ],
   "source": [
    "#모범담안\n",
    "{w:word.count(w) for w in set(word) if w in vowels}"
   ]
  },
  {
   "cell_type": "markdown",
   "id": "d6136100",
   "metadata": {},
   "source": [
    "### set\n",
    "- 중복이 없다\n",
    "- 집합 => 교집합, 합집합, 차집합 ....\n",
    "- bag, 인덱싱도 없다."
   ]
  },
  {
   "cell_type": "code",
   "execution_count": 174,
   "id": "fe58f250",
   "metadata": {},
   "outputs": [
    {
     "data": {
      "text/plain": [
       "set()"
      ]
     },
     "execution_count": 174,
     "metadata": {},
     "output_type": "execute_result"
    }
   ],
   "source": [
    "empty = set()\n",
    "empty"
   ]
  },
  {
   "cell_type": "code",
   "execution_count": 176,
   "id": "af514a72",
   "metadata": {},
   "outputs": [
    {
     "data": {
      "text/plain": [
       "{1, 2, 3}"
      ]
     },
     "execution_count": 176,
     "metadata": {},
     "output_type": "execute_result"
    }
   ],
   "source": [
    "a = {1, 2, 3}\n",
    "a"
   ]
  },
  {
   "cell_type": "code",
   "execution_count": 177,
   "id": "f6a33785",
   "metadata": {},
   "outputs": [
    {
     "ename": "SyntaxError",
     "evalue": "invalid syntax (Temp/ipykernel_14580/2948642900.py, line 1)",
     "output_type": "error",
     "traceback": [
      "\u001b[1;36m  File \u001b[1;32m\"C:\\Users\\irisc\\AppData\\Local\\Temp/ipykernel_14580/2948642900.py\"\u001b[1;36m, line \u001b[1;32m1\u001b[0m\n\u001b[1;33m    a = set{1, 2, 3} #오류가 남\u001b[0m\n\u001b[1;37m           ^\u001b[0m\n\u001b[1;31mSyntaxError\u001b[0m\u001b[1;31m:\u001b[0m invalid syntax\n"
     ]
    }
   ],
   "source": [
    "a = set{1, 2, 3} #오류가 남"
   ]
  },
  {
   "cell_type": "code",
   "execution_count": 178,
   "id": "62b2e862",
   "metadata": {},
   "outputs": [],
   "source": [
    "a = set((1, 2, 3))"
   ]
  },
  {
   "cell_type": "code",
   "execution_count": 181,
   "id": "321cecbe",
   "metadata": {},
   "outputs": [
    {
     "data": {
      "text/plain": [
       "{1, 2, 3, 4}"
      ]
     },
     "execution_count": 181,
     "metadata": {},
     "output_type": "execute_result"
    }
   ],
   "source": [
    "# 추가 \n",
    "a.add(4)\n",
    "\n",
    "a.add(3)\n",
    "a"
   ]
  },
  {
   "cell_type": "code",
   "execution_count": 182,
   "id": "2371ab89",
   "metadata": {},
   "outputs": [
    {
     "data": {
      "text/plain": [
       "{1, 2, 3}"
      ]
     },
     "execution_count": 182,
     "metadata": {},
     "output_type": "execute_result"
    }
   ],
   "source": [
    "# 삭제 \n",
    "a.remove(4)\n",
    "a"
   ]
  },
  {
   "cell_type": "markdown",
   "id": "aa3d4fea",
   "metadata": {},
   "source": [
    "### Quiz 5\n",
    "- vodka 가 포함된 술 출력하기 \n",
    "- vodka가 있지만 cream, vermouth는 없는 술을 출력하기"
   ]
  },
  {
   "cell_type": "code",
   "execution_count": 183,
   "id": "0f51dd05",
   "metadata": {},
   "outputs": [],
   "source": [
    "drinks = {\n",
    "    'martini':{'vodka', 'vermouth'},\n",
    "    'black russian' : {'vodka', 'kahlua'},\n",
    "    'white russian' : {'cream', 'kahlua', 'vodka'},\n",
    "    'manhattan':{'rye','vermouth','bitters'},\n",
    "    'screwdriver': {'orange juice', 'vodka'}\n",
    "}"
   ]
  },
  {
   "cell_type": "code",
   "execution_count": 201,
   "id": "8b029fcd",
   "metadata": {},
   "outputs": [
    {
     "data": {
      "text/plain": [
       "{'martini': {'vermouth', 'vodka'},\n",
       " 'black russian': {'kahlua', 'vodka'},\n",
       " 'white russian': {'cream', 'kahlua', 'vodka'},\n",
       " 'screwdriver': {'orange juice', 'vodka'}}"
      ]
     },
     "execution_count": 201,
     "metadata": {},
     "output_type": "execute_result"
    }
   ],
   "source": [
    "dict([(k, v) for k, v in drinks.items() if 'vodka' in v])"
   ]
  },
  {
   "cell_type": "code",
   "execution_count": 200,
   "id": "b2cd5919",
   "metadata": {},
   "outputs": [
    {
     "data": {
      "text/plain": [
       "{'black russian': {'kahlua', 'vodka'},\n",
       " 'screwdriver': {'orange juice', 'vodka'}}"
      ]
     },
     "execution_count": 200,
     "metadata": {},
     "output_type": "execute_result"
    }
   ],
   "source": [
    "dict([(k, v) for k, v in drinks.items() if ('vodka' in v) and ('cream' not in v) and ('vermouth' not in v)])\n",
    "#not으로 전체를 묶어도 됨 "
   ]
  },
  {
   "cell_type": "code",
   "execution_count": 214,
   "id": "a1f449b4",
   "metadata": {},
   "outputs": [
    {
     "data": {
      "text/plain": [
       "{'martini': {'vermouth', 'vodka'},\n",
       " 'black russian': {'kahlua', 'vodka'},\n",
       " 'white russian': {'cream', 'kahlua', 'vodka'},\n",
       " 'screwdriver': {'orange juice', 'vodka'}}"
      ]
     },
     "execution_count": 214,
     "metadata": {},
     "output_type": "execute_result"
    }
   ],
   "source": [
    "{k:v for k, v in drinks.items() if 'vodka' in v}"
   ]
  },
  {
   "cell_type": "code",
   "execution_count": 215,
   "id": "af313e69",
   "metadata": {},
   "outputs": [
    {
     "data": {
      "text/plain": [
       "{'black russian': {'kahlua', 'vodka'},\n",
       " 'white russian': {'cream', 'kahlua', 'vodka'},\n",
       " 'screwdriver': {'orange juice', 'vodka'}}"
      ]
     },
     "execution_count": 215,
     "metadata": {},
     "output_type": "execute_result"
    }
   ],
   "source": [
    "{k:v for k, v in drinks.items() if 'vodka' in v and ('cream' and 'vermouth'not in v)}"
   ]
  },
  {
   "cell_type": "code",
   "execution_count": 227,
   "id": "d5206c77",
   "metadata": {},
   "outputs": [
    {
     "data": {
      "text/plain": [
       "({1}, {4})"
      ]
     },
     "execution_count": 227,
     "metadata": {},
     "output_type": "execute_result"
    }
   ],
   "source": [
    "a = {1, 2, 3}\n",
    "b = {2, 3, 4}\n",
    "\n",
    "# 교집합 | intersection\n",
    "a.intersection(b)\n",
    "a&b\n",
    "\n",
    "# 합집합 |union\n",
    "a.union(b)\n",
    "a|b\n",
    "\n",
    "# 차집합 |differences\n",
    "a.difference(b)\n",
    "a - b, b - a"
   ]
  },
  {
   "cell_type": "code",
   "execution_count": 239,
   "id": "f549f0e3",
   "metadata": {},
   "outputs": [
    {
     "name": "stdout",
     "output_type": "stream",
     "text": [
      "black russian\n",
      "screwdriver\n"
     ]
    }
   ],
   "source": [
    "for k, v in drinks.items():\n",
    "    if v & {'vodka'} and not v & {'cream', 'vermouth'}:\n",
    "        print(k)"
   ]
  },
  {
   "cell_type": "markdown",
   "id": "3415709a",
   "metadata": {},
   "source": [
    "### set comprehencion"
   ]
  },
  {
   "cell_type": "code",
   "execution_count": 240,
   "id": "9c9750bd",
   "metadata": {},
   "outputs": [
    {
     "data": {
      "text/plain": [
       "{0, 1, 2, 3, 4}"
      ]
     },
     "execution_count": 240,
     "metadata": {},
     "output_type": "execute_result"
    }
   ],
   "source": [
    "{s for s in range(5)}"
   ]
  },
  {
   "cell_type": "code",
   "execution_count": 241,
   "id": "c9608952",
   "metadata": {},
   "outputs": [
    {
     "data": {
      "text/plain": [
       "frozenset({1, 2})"
      ]
     },
     "execution_count": 241,
     "metadata": {},
     "output_type": "execute_result"
    }
   ],
   "source": [
    "#frozen set\n",
    "set([1, 2])\n",
    "frozenset([1, 2])"
   ]
  },
  {
   "cell_type": "markdown",
   "id": "bb6c4e2b",
   "metadata": {},
   "source": [
    "### Project\n",
    "- 팀 별로 하나의 file\n",
    "- tesk 해결 (랜덤으로 코드 설명)\n",
    "    => 성의X or 이해X 이면 점수X\n",
    "- 제출: 수요일 자정"
   ]
  },
  {
   "cell_type": "code",
   "execution_count": null,
   "id": "ca405508",
   "metadata": {},
   "outputs": [],
   "source": [
    "!pip install pylint\n",
    "!pylint example.py\n",
    "\n",
    "!pip install pydocstyle\n",
    "!pydocstyle example.py"
   ]
  },
  {
   "cell_type": "markdown",
   "id": "952708ff",
   "metadata": {},
   "source": [
    "문제가 뭐였고, 그래서 이렇게 짰다\n",
    "- 이 부분은 해결 안됐는데, 이렇게 했다.\n",
    "- 이 부분은 잘 한 것 같다.\n",
    "- 여기는 이렇게 했는데 점수가 이렇게 됐다. \n",
    "    - 이유가 무엇일까..? \n",
    "-등등 분석하면서 발표\n",
    "- 과제는 팀장만 제출, 발표는 따로 준비\n",
    "    - 음성발표, 얼굴X"
   ]
  },
  {
   "cell_type": "code",
   "execution_count": null,
   "id": "474bf6bb",
   "metadata": {},
   "outputs": [],
   "source": []
  }
 ],
 "metadata": {
  "kernelspec": {
   "display_name": "Python 3 (ipykernel)",
   "language": "python",
   "name": "python3"
  },
  "language_info": {
   "codemirror_mode": {
    "name": "ipython",
    "version": 3
   },
   "file_extension": ".py",
   "mimetype": "text/x-python",
   "name": "python",
   "nbconvert_exporter": "python",
   "pygments_lexer": "ipython3",
   "version": "3.9.7"
  }
 },
 "nbformat": 4,
 "nbformat_minor": 5
}
