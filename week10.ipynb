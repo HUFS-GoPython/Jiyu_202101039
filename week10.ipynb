{
 "cells": [
  {
   "cell_type": "markdown",
   "id": "68a6a78d",
   "metadata": {},
   "source": [
    "### 10. 객체와 클래스\n",
    "- object \n",
    "- 객체지향프로그래밍\n",
    "- 속성과 행동을 가지는 개념, 실존하는 물체? #개념일 수도 있고, 물체일수도 있다. 일단 속성을 갖고 있고, 어떠한 행동을 한다. \n",
    "    - ex) 자동차, 강아지, 꽃... thing\n",
    "        - 자동차 속성 : 색, 브랜드, 속도, 모델 ...\n",
    "        - 강아지 속성 : 이름, 종, 색, 무게 ...\n",
    "        - 자동차 행동 : 가다, 서다, 회전, 주차\n",
    "        - 강아지 행동 : 뛰다, 짖다, 자다, 핥다\n",
    "    - 편의점 프로그램을 만들고 싶다면 => '고갱이 편의점에서 과자를 샀다.'\n",
    "         - 고객 => 사람 /  편의점, 과자 => 물건\n",
    "            - 고객 : 이름 / 물건을 사다, 돈을 낸다\n",
    "            - 편의점 : 재고, 수익 / 수익을 남기다\n",
    "            - 과자 : 이름, 브랜드, 가격 / X\n",
    "            -- 만약 이름이 필요 없다면 속성을 없애도 된다\n",
    "         - 3개의 상호작용으로 코드를 구성"
   ]
  },
  {
   "cell_type": "markdown",
   "id": "47701185",
   "metadata": {},
   "source": [
    "### class 특징\n",
    "- 첫 글자 대문자 \n",
    "- nice car -> Nice_car(x), NiceCar(o)\n",
    "\n",
    "- 정의부, 선언부\n",
    "    - 정의부 = 붕어빵 틀\n",
    "    - 선언부 = 붕어빵"
   ]
  },
  {
   "cell_type": "markdown",
   "id": "319a709f",
   "metadata": {},
   "source": [
    "class (이름)"
   ]
  },
  {
   "cell_type": "code",
   "execution_count": 1,
   "id": "9ab15615",
   "metadata": {},
   "outputs": [
    {
     "data": {
      "text/plain": [
       "<__main__.Car at 0x1cea7181a90>"
      ]
     },
     "execution_count": 1,
     "metadata": {},
     "output_type": "execute_result"
    }
   ],
   "source": [
    "#정의부\n",
    "class Car : #객체\n",
    "    pass\n",
    "\n",
    "#선언부 \n",
    "my_car = Car() #Car = 클래스 명\n",
    "my_car #instance == 붕어빵"
   ]
  },
  {
   "cell_type": "code",
   "execution_count": 2,
   "id": "27e9be27",
   "metadata": {},
   "outputs": [],
   "source": [
    "my_car.name = 'bmw'\n",
    "my_car.color = 'white'"
   ]
  },
  {
   "cell_type": "code",
   "execution_count": 3,
   "id": "49737813",
   "metadata": {},
   "outputs": [
    {
     "data": {
      "text/plain": [
       "'bmw'"
      ]
     },
     "execution_count": 3,
     "metadata": {},
     "output_type": "execute_result"
    }
   ],
   "source": [
    "my_car.name"
   ]
  },
  {
   "cell_type": "code",
   "execution_count": 4,
   "id": "c9b3338a",
   "metadata": {},
   "outputs": [
    {
     "data": {
      "text/plain": [
       "'white'"
      ]
     },
     "execution_count": 4,
     "metadata": {},
     "output_type": "execute_result"
    }
   ],
   "source": [
    "my_car.color"
   ]
  },
  {
   "cell_type": "code",
   "execution_count": 5,
   "id": "befc9962",
   "metadata": {},
   "outputs": [],
   "source": [
    "#1. 아예 변수를 설정하기 \n",
    "class Car:\n",
    "    name = 'BMW' #속성을 미리 정해줄 수 있다. "
   ]
  },
  {
   "cell_type": "code",
   "execution_count": 6,
   "id": "1625db3a",
   "metadata": {},
   "outputs": [],
   "source": [
    "your_car = Car()"
   ]
  },
  {
   "cell_type": "code",
   "execution_count": 7,
   "id": "2ed47b91",
   "metadata": {},
   "outputs": [
    {
     "data": {
      "text/plain": [
       "'BMW'"
      ]
     },
     "execution_count": 7,
     "metadata": {},
     "output_type": "execute_result"
    }
   ],
   "source": [
    "your_car.name "
   ]
  },
  {
   "cell_type": "code",
   "execution_count": 8,
   "id": "3d58ee58",
   "metadata": {},
   "outputs": [
    {
     "data": {
      "text/plain": [
       "'kia'"
      ]
     },
     "execution_count": 8,
     "metadata": {},
     "output_type": "execute_result"
    }
   ],
   "source": [
    "your_car.name = 'kia' #바꿀 수도 있다.\n",
    "your_car.name"
   ]
  },
  {
   "cell_type": "code",
   "execution_count": 14,
   "id": "c0127d52",
   "metadata": {},
   "outputs": [],
   "source": [
    "#2. init 을 통해 지정해주기\n",
    "class Car:\n",
    "    def __init__(self, name): # 속성 초기화 함수\n",
    "        #객체를 만들 때 들어가는 갑스로 이름을 설정하고 싶다.\n",
    "        self.name = name\n",
    "        # self == instance : 나 자신(인스턴스 자신)"
   ]
  },
  {
   "cell_type": "code",
   "execution_count": 15,
   "id": "269eae18",
   "metadata": {},
   "outputs": [],
   "source": [
    "her_car = Car(name = 'Hyundai')"
   ]
  },
  {
   "cell_type": "code",
   "execution_count": 16,
   "id": "e33f757d",
   "metadata": {},
   "outputs": [
    {
     "data": {
      "text/plain": [
       "'Hyundai'"
      ]
     },
     "execution_count": 16,
     "metadata": {},
     "output_type": "execute_result"
    }
   ],
   "source": [
    "her_car.name"
   ]
  },
  {
   "cell_type": "code",
   "execution_count": 17,
   "id": "3fd6db36",
   "metadata": {},
   "outputs": [
    {
     "data": {
      "text/plain": [
       "'Toyota'"
      ]
     },
     "execution_count": 17,
     "metadata": {},
     "output_type": "execute_result"
    }
   ],
   "source": [
    "car2 = Car('Toyota') \n",
    "car2.name"
   ]
  },
  {
   "cell_type": "markdown",
   "id": "7e88fc31",
   "metadata": {},
   "source": [
    "## Quiz \n",
    "모델, 색, 이름"
   ]
  },
  {
   "cell_type": "code",
   "execution_count": 28,
   "id": "9dca341e",
   "metadata": {},
   "outputs": [],
   "source": [
    "#이름, 모델 색 \n",
    "class Car:\n",
    "    def __init__(self, name, model, color):\n",
    "        self.name = name\n",
    "        self.model = model\n",
    "        self.color = color"
   ]
  },
  {
   "cell_type": "code",
   "execution_count": 29,
   "id": "b0de0440",
   "metadata": {},
   "outputs": [],
   "source": [
    "my_car = Car('porcshe', '911', 'yellow')"
   ]
  },
  {
   "cell_type": "code",
   "execution_count": 31,
   "id": "c4c7d7f5",
   "metadata": {},
   "outputs": [
    {
     "data": {
      "text/plain": [
       "'911'"
      ]
     },
     "execution_count": 31,
     "metadata": {},
     "output_type": "execute_result"
    }
   ],
   "source": [
    "my_car.model"
   ]
  },
  {
   "cell_type": "code",
   "execution_count": 32,
   "id": "e146b85f",
   "metadata": {},
   "outputs": [
    {
     "data": {
      "text/plain": [
       "'yellow'"
      ]
     },
     "execution_count": 32,
     "metadata": {},
     "output_type": "execute_result"
    }
   ],
   "source": [
    "my_car.color"
   ]
  },
  {
   "cell_type": "code",
   "execution_count": 1,
   "id": "a689fd20",
   "metadata": {},
   "outputs": [],
   "source": [
    "#이름, 모델, 색, drive, stop\n",
    "class Car:\n",
    "    def __init__(self, name, model, color):\n",
    "        self.name = name\n",
    "        self.model = model\n",
    "        self.color = color\n",
    "    def drive(self):\n",
    "        print('차가 감')\n",
    "    def stop(self):\n",
    "        print('차가 섬')"
   ]
  },
  {
   "cell_type": "code",
   "execution_count": 2,
   "id": "21281aca",
   "metadata": {},
   "outputs": [],
   "source": [
    "#color을 gray로 바꾸기 \n",
    "class Car:\n",
    "    def __init__(self, name, model, color):\n",
    "        self.name = name\n",
    "        self.model = model\n",
    "        self.color = color\n",
    "    def drive(self, name):\n",
    "        print(f'{name}가 출발합니다.')\n",
    "    def stop(self):\n",
    "        print('차가 섬')\n",
    "    def change_color(self):\n",
    "        self.color = 'gray' #color를 gray로 바꾼다."
   ]
  },
  {
   "cell_type": "code",
   "execution_count": 86,
   "id": "28e592ab",
   "metadata": {},
   "outputs": [],
   "source": [
    "my_car = Car('porsche', '911', 'yellow')"
   ]
  },
  {
   "cell_type": "code",
   "execution_count": 87,
   "id": "c704a218",
   "metadata": {},
   "outputs": [
    {
     "name": "stdout",
     "output_type": "stream",
     "text": [
      "porsche가 출발합니다.\n"
     ]
    }
   ],
   "source": [
    "my_car.drive('porsche')"
   ]
  },
  {
   "cell_type": "code",
   "execution_count": 88,
   "id": "063740d6",
   "metadata": {},
   "outputs": [
    {
     "data": {
      "text/plain": [
       "'yellow'"
      ]
     },
     "execution_count": 88,
     "metadata": {},
     "output_type": "execute_result"
    }
   ],
   "source": [
    "my_car.color"
   ]
  },
  {
   "cell_type": "code",
   "execution_count": 89,
   "id": "63222ec8",
   "metadata": {},
   "outputs": [
    {
     "data": {
      "text/plain": [
       "'gray'"
      ]
     },
     "execution_count": 89,
     "metadata": {},
     "output_type": "execute_result"
    }
   ],
   "source": [
    "my_car.change_color()\n",
    "my_car.color"
   ]
  },
  {
   "cell_type": "code",
   "execution_count": 140,
   "id": "d9b27d84",
   "metadata": {},
   "outputs": [],
   "source": [
    "#color을 받아서 책의 색 지정하기 \n",
    "class Car:\n",
    "    def __init__(self, name, model, color):\n",
    "        self.name = name\n",
    "        self.model = model\n",
    "        self.color = color\n",
    "    def drive(self, name):\n",
    "        print(f'{self.name}가 출발합니다.')\n",
    "    def stop(self):\n",
    "        print('차가 섬')\n",
    "    def change_color(self, color):\n",
    "        self.color = color #color을 받아서 그걸로 지정"
   ]
  },
  {
   "cell_type": "code",
   "execution_count": 141,
   "id": "0bbac9ed",
   "metadata": {},
   "outputs": [],
   "source": [
    "your_car = Car('porsche', '911', 'yellow')"
   ]
  },
  {
   "cell_type": "code",
   "execution_count": 142,
   "id": "13c54c6f",
   "metadata": {},
   "outputs": [
    {
     "data": {
      "text/plain": [
       "'yellow'"
      ]
     },
     "execution_count": 142,
     "metadata": {},
     "output_type": "execute_result"
    }
   ],
   "source": [
    "your_car.color"
   ]
  },
  {
   "cell_type": "code",
   "execution_count": 143,
   "id": "8d2a1276",
   "metadata": {},
   "outputs": [
    {
     "data": {
      "text/plain": [
       "'red'"
      ]
     },
     "execution_count": 143,
     "metadata": {},
     "output_type": "execute_result"
    }
   ],
   "source": [
    "your_car.change_color('red')\n",
    "your_car.color"
   ]
  },
  {
   "cell_type": "code",
   "execution_count": 144,
   "id": "7f501411",
   "metadata": {},
   "outputs": [
    {
     "data": {
      "text/plain": [
       "'red'"
      ]
     },
     "execution_count": 144,
     "metadata": {},
     "output_type": "execute_result"
    }
   ],
   "source": [
    "your_car.color"
   ]
  },
  {
   "cell_type": "code",
   "execution_count": 145,
   "id": "4c0ae23b",
   "metadata": {},
   "outputs": [],
   "source": [
    "class Car:\n",
    "    def __init__(self, name, model, color = 'black'): #color가 없으면 black\n",
    "        self.name = name\n",
    "        self.model = model\n",
    "        self.color = color\n",
    "    def drive(self, name):\n",
    "        print(f'{self.name}가 출발합니다.')\n",
    "    def stop(self):\n",
    "        print('차가 섬')\n",
    "    def change_color(self, color):\n",
    "        self.color = color #color가 있으면 그 값으로 지정"
   ]
  },
  {
   "cell_type": "code",
   "execution_count": 146,
   "id": "9f18580e",
   "metadata": {},
   "outputs": [],
   "source": [
    "your_car = Car('porsche', '911', 'yellow')"
   ]
  },
  {
   "cell_type": "code",
   "execution_count": 148,
   "id": "76858a9f",
   "metadata": {},
   "outputs": [
    {
     "data": {
      "text/plain": [
       "'yellow'"
      ]
     },
     "execution_count": 148,
     "metadata": {},
     "output_type": "execute_result"
    }
   ],
   "source": [
    "your_car.color"
   ]
  },
  {
   "cell_type": "code",
   "execution_count": 152,
   "id": "9ae6ae06",
   "metadata": {},
   "outputs": [],
   "source": [
    "my_car = Car('BMW', 'SUV')"
   ]
  },
  {
   "cell_type": "code",
   "execution_count": 153,
   "id": "7729d7aa",
   "metadata": {},
   "outputs": [
    {
     "data": {
      "text/plain": [
       "'SUV'"
      ]
     },
     "execution_count": 153,
     "metadata": {},
     "output_type": "execute_result"
    }
   ],
   "source": [
    "my_car.color #???"
   ]
  },
  {
   "cell_type": "code",
   "execution_count": 149,
   "id": "21f08b6a",
   "metadata": {},
   "outputs": [],
   "source": [
    "# 모델을 나중에 받고 싶을 때 \n",
    "# 내 답\n",
    "class Car:\n",
    "    def __init__(self, name, color = 'black'):\n",
    "        self.name = name\n",
    "        self.color = color\n",
    "    def drive(self, name):\n",
    "        print(f'{self.name}가 출발합니다.')\n",
    "    def stop(self):\n",
    "        print('차가 섬')\n",
    "    def change_color(self, color):\n",
    "        self.color = color "
   ]
  },
  {
   "cell_type": "code",
   "execution_count": 150,
   "id": "fd1c649c",
   "metadata": {},
   "outputs": [],
   "source": [
    "my_car = Car('porsche', 'yellow')\n",
    "my_car.model = '911'"
   ]
  },
  {
   "cell_type": "code",
   "execution_count": 151,
   "id": "0d2242de",
   "metadata": {},
   "outputs": [
    {
     "data": {
      "text/plain": [
       "'911'"
      ]
     },
     "execution_count": 151,
     "metadata": {},
     "output_type": "execute_result"
    }
   ],
   "source": [
    "my_car.model"
   ]
  },
  {
   "cell_type": "code",
   "execution_count": null,
   "id": "0b99b7e7",
   "metadata": {},
   "outputs": [],
   "source": [
    "# 모델을 나중에 받고 싶을 때 \n",
    "# 모범답안 : None을 써준다. \n",
    "class Car:\n",
    "    def __init__(self, name, model = None, color = 'black'):\n",
    "        self.name = name\n",
    "        self.color = color\n",
    "    def drive(self, name):\n",
    "        print(f'{self.name}가 출발합니다.')\n",
    "    def stop(self):\n",
    "        print('차가 섬')\n",
    "    def change_color(self, color):\n",
    "        self.color = color "
   ]
  },
  {
   "cell_type": "code",
   "execution_count": 154,
   "id": "91276f3a",
   "metadata": {},
   "outputs": [],
   "source": [
    "car = Car('Porsche')"
   ]
  },
  {
   "cell_type": "code",
   "execution_count": 158,
   "id": "43eb7035",
   "metadata": {},
   "outputs": [
    {
     "data": {
      "text/plain": [
       "'BMW'"
      ]
     },
     "execution_count": 158,
     "metadata": {},
     "output_type": "execute_result"
    }
   ],
   "source": [
    "car.model = \"BMW\"\n",
    "car.model"
   ]
  },
  {
   "cell_type": "markdown",
   "id": "4e222feb",
   "metadata": {},
   "source": [
    "### 캡슐화, 정보 은닉\n",
    "- public => private\n",
    "- getter, setter"
   ]
  },
  {
   "cell_type": "code",
   "execution_count": 159,
   "id": "39998374",
   "metadata": {},
   "outputs": [
    {
     "data": {
      "text/plain": [
       "'red'"
      ]
     },
     "execution_count": 159,
     "metadata": {},
     "output_type": "execute_result"
    }
   ],
   "source": [
    "class Fruit :\n",
    "    color = 'red'\n",
    "kiwi = Fruit()\n",
    "kiwi.color"
   ]
  },
  {
   "cell_type": "code",
   "execution_count": 160,
   "id": "cbd6c0ad",
   "metadata": {},
   "outputs": [],
   "source": [
    "Fruit.color = 'black'"
   ]
  },
  {
   "cell_type": "code",
   "execution_count": 161,
   "id": "373dda4a",
   "metadata": {},
   "outputs": [
    {
     "data": {
      "text/plain": [
       "'black'"
      ]
     },
     "execution_count": 161,
     "metadata": {},
     "output_type": "execute_result"
    }
   ],
   "source": [
    "apple = Fruit() #밖에서 color를 바꿔줄 수 있게 됨 \n",
    "apple.color"
   ]
  },
  {
   "cell_type": "markdown",
   "id": "de12a654",
   "metadata": {},
   "source": [
    "#### get, set\n",
    "- getter : 클래스 내 객체 변수 반환\n",
    "- setter : == 변수 설정"
   ]
  },
  {
   "cell_type": "code",
   "execution_count": 165,
   "id": "15107cb9",
   "metadata": {},
   "outputs": [],
   "source": [
    "class Car:\n",
    "    def __init__(self,input_name):\n",
    "        self.name = input_name\n",
    "    def get_name(self):\n",
    "        #변수 반환 -> return 값이 있다.\n",
    "        return self.name\n",
    "    def set_name(self, input_name):\n",
    "        #설정이기 때문에 return 값이 없다. \n",
    "        self.name = input_name\n",
    "c = Car('name1')"
   ]
  },
  {
   "cell_type": "code",
   "execution_count": 166,
   "id": "9a0e214c",
   "metadata": {},
   "outputs": [
    {
     "data": {
      "text/plain": [
       "'name1'"
      ]
     },
     "execution_count": 166,
     "metadata": {},
     "output_type": "execute_result"
    }
   ],
   "source": [
    "c.get_name()"
   ]
  },
  {
   "cell_type": "code",
   "execution_count": 167,
   "id": "9897626d",
   "metadata": {},
   "outputs": [
    {
     "data": {
      "text/plain": [
       "'name2'"
      ]
     },
     "execution_count": 167,
     "metadata": {},
     "output_type": "execute_result"
    }
   ],
   "source": [
    "c.set_name('name2')\n",
    "c.name"
   ]
  },
  {
   "cell_type": "code",
   "execution_count": 168,
   "id": "8a7e2f49",
   "metadata": {},
   "outputs": [
    {
     "data": {
      "text/plain": [
       "'name3'"
      ]
     },
     "execution_count": 168,
     "metadata": {},
     "output_type": "execute_result"
    }
   ],
   "source": [
    "c.name = 'name3'\n",
    "c.name"
   ]
  },
  {
   "cell_type": "markdown",
   "id": "bf140098",
   "metadata": {},
   "source": [
    "## 2"
   ]
  },
  {
   "cell_type": "code",
   "execution_count": 171,
   "id": "49ddcf41",
   "metadata": {},
   "outputs": [
    {
     "data": {
      "text/plain": [
       "'name_1'"
      ]
     },
     "execution_count": 171,
     "metadata": {},
     "output_type": "execute_result"
    }
   ],
   "source": [
    "class Car:\n",
    "    def __init__(self,input_name):\n",
    "        self.hidden_name = input_name\n",
    "    def get_name(self):\n",
    "        #변수 반환 -> return 값이 있다.\n",
    "        return self.hidden_name\n",
    "    def set_name(self, input_name):\n",
    "        #설정이기 때문에 return 값이 없다. \n",
    "        self.hidden_name = input_name\n",
    "        \n",
    "    name = property(get_name, set_name)\n",
    "d = Car('name_1')\n",
    "d.name"
   ]
  },
  {
   "cell_type": "markdown",
   "id": "06c46a79",
   "metadata": {},
   "source": [
    "## 3."
   ]
  },
  {
   "cell_type": "code",
   "execution_count": 172,
   "id": "c708dedd",
   "metadata": {},
   "outputs": [],
   "source": [
    "class Car:\n",
    "    def __init__(self,input_name):\n",
    "        self.hidden_name = input_name\n",
    "        \n",
    "    @property #decorator\n",
    "    def name(self):\n",
    "        return self.hidden_name\n",
    "    \n",
    "    @name.setter\n",
    "    def name(self, input_name):\n",
    "\n",
    "        self.hidden_name = input_name"
   ]
  },
  {
   "cell_type": "code",
   "execution_count": 173,
   "id": "6f5a56da",
   "metadata": {},
   "outputs": [
    {
     "data": {
      "text/plain": [
       "'name a'"
      ]
     },
     "execution_count": 173,
     "metadata": {},
     "output_type": "execute_result"
    }
   ],
   "source": [
    "e = Car('name a')\n",
    "e.name"
   ]
  },
  {
   "cell_type": "code",
   "execution_count": 174,
   "id": "e8440143",
   "metadata": {},
   "outputs": [
    {
     "ename": "AttributeError",
     "evalue": "type object 'Car' has no attribute 'hidden_name'",
     "output_type": "error",
     "traceback": [
      "\u001b[1;31m---------------------------------------------------------------------------\u001b[0m",
      "\u001b[1;31mAttributeError\u001b[0m                            Traceback (most recent call last)",
      "\u001b[1;32m~\\AppData\\Local\\Temp/ipykernel_1328/3875720725.py\u001b[0m in \u001b[0;36m<module>\u001b[1;34m\u001b[0m\n\u001b[1;32m----> 1\u001b[1;33m \u001b[0mCar\u001b[0m\u001b[1;33m.\u001b[0m\u001b[0mhidden_name\u001b[0m\u001b[1;33m\u001b[0m\u001b[1;33m\u001b[0m\u001b[0m\n\u001b[0m",
      "\u001b[1;31mAttributeError\u001b[0m: type object 'Car' has no attribute 'hidden_name'"
     ]
    }
   ],
   "source": [
    "Car.hidden_name #얘는 가렸지만 "
   ]
  },
  {
   "cell_type": "code",
   "execution_count": 175,
   "id": "e739afee",
   "metadata": {},
   "outputs": [
    {
     "data": {
      "text/plain": [
       "'name a'"
      ]
     },
     "execution_count": 175,
     "metadata": {},
     "output_type": "execute_result"
    }
   ],
   "source": [
    "e.hidden_name #얘는 못 가렸다. "
   ]
  },
  {
   "cell_type": "code",
   "execution_count": 176,
   "id": "a0342605",
   "metadata": {},
   "outputs": [],
   "source": [
    "class Car:\n",
    "    def __init__(self,input_name):\n",
    "        self.__name = input_name #언더바\n",
    "        \n",
    "    @property #decorator\n",
    "    def name(self):\n",
    "        return self.__name\n",
    "    \n",
    "    @name.setter\n",
    "    def name(self, input_name):\n",
    "        self.__name = input_name\n"
   ]
  },
  {
   "cell_type": "code",
   "execution_count": 177,
   "id": "ffa8704a",
   "metadata": {},
   "outputs": [
    {
     "ename": "NameError",
     "evalue": "name 'f' is not defined",
     "output_type": "error",
     "traceback": [
      "\u001b[1;31m---------------------------------------------------------------------------\u001b[0m",
      "\u001b[1;31mNameError\u001b[0m                                 Traceback (most recent call last)",
      "\u001b[1;32m~\\AppData\\Local\\Temp/ipykernel_1328/2983981586.py\u001b[0m in \u001b[0;36m<module>\u001b[1;34m\u001b[0m\n\u001b[1;32m----> 1\u001b[1;33m \u001b[0mf\u001b[0m\u001b[1;33m.\u001b[0m\u001b[0mCar\u001b[0m\u001b[1;33m(\u001b[0m\u001b[1;34m'name b'\u001b[0m\u001b[1;33m)\u001b[0m\u001b[1;33m\u001b[0m\u001b[1;33m\u001b[0m\u001b[0m\n\u001b[0m\u001b[0;32m      2\u001b[0m \u001b[0mf\u001b[0m\u001b[1;33m.\u001b[0m\u001b[0m__name\u001b[0m\u001b[1;33m\u001b[0m\u001b[1;33m\u001b[0m\u001b[0m\n",
      "\u001b[1;31mNameError\u001b[0m: name 'f' is not defined"
     ]
    }
   ],
   "source": [
    "f.Car('name b')\n",
    "f.__name # 잘 가려짐"
   ]
  },
  {
   "cell_type": "code",
   "execution_count": 180,
   "id": "457947d6",
   "metadata": {},
   "outputs": [
    {
     "data": {
      "text/plain": [
       "10"
      ]
     },
     "execution_count": 180,
     "metadata": {},
     "output_type": "execute_result"
    }
   ],
   "source": [
    "class Circle:\n",
    "    def __init__(self, radius):\n",
    "        self.radius = radius\n",
    "        \n",
    "    @property    \n",
    "    def parameter(self):\n",
    "        return self.radius*2\n",
    "    \n",
    "ex = Circle(5)\n",
    "ex.parameter"
   ]
  },
  {
   "cell_type": "code",
   "execution_count": 181,
   "id": "16c8222d",
   "metadata": {},
   "outputs": [
    {
     "data": {
      "text/plain": [
       "38"
      ]
     },
     "execution_count": 181,
     "metadata": {},
     "output_type": "execute_result"
    }
   ],
   "source": [
    "ex.radius = 19\n",
    "ex.parameter"
   ]
  },
  {
   "cell_type": "markdown",
   "id": "7779f3ee",
   "metadata": {},
   "source": [
    "### 실습 \n",
    "- 메모장, 메모 구현하기\n",
    "- 메모장 \n",
    "    - 속성 : 제목, 페이지 번호, 메모\n",
    "    - 행동 : 메모 추가하다, 메모 삭제하다, 페이지 번호 확인하다 \n",
    "- 메모 \n",
    "    - 속성 : 글귀\n",
    "    - 행동 : 쓰다, 지우다\n",
    "- 사용\n",
    "    - 메모 쓴다.\n",
    "    - 메모장에 추가\n",
    "    - 페이지 번호가 늘어난다. \n",
    "    - 메모를 삭제하면 페이지 번호가 줄어든다. \n",
    "    - 메모장의 제목만 은닉시키다."
   ]
  },
  {
   "cell_type": "code",
   "execution_count": 10,
   "id": "0a87367d",
   "metadata": {},
   "outputs": [
    {
     "name": "stdout",
     "output_type": "stream",
     "text": [
      "Hi\n",
      "My name is JiYu\n",
      "Nice to meet you\n",
      "Hi\n",
      "My name is JiYu\n",
      "3페이지입니다\n"
     ]
    }
   ],
   "source": [
    "class Notebook:\n",
    "    def __init__(self, title, page, memo):\n",
    "        self.title = title\n",
    "        self.page = page\n",
    "        self.memo = memo\n",
    "  \n",
    "    def add_note(self, new_memo):\n",
    "        self.page += 1\n",
    "        self.memo += new_memo\n",
    "\n",
    "    def remove_note(self, old_memo):\n",
    "        self.page -= 1\n",
    "        self.memo -= old_memo\n",
    "\n",
    "    def check_page(self):\n",
    "        print(f'{self.page}페이지입니다')\n",
    "\n",
    "class Note:\n",
    "    def __init__(self, note_taking):\n",
    "        self.note_taking = note_taking\n",
    "\n",
    "    def writing(self, new_note):\n",
    "        self.note_taking += new_note\n",
    "\n",
    "    def removing(self, old_note):\n",
    "        self.note_taking -= old_note\n",
    "\n",
    "note1 = Note('Hi\\n')\n",
    "note1.writing('My name is JiYu')\n",
    "print(note1.note_taking)\n",
    "book = Notebook('Introduction', 2, 'Nice to meet you\\n')\n",
    "book.add_note(note1.note_taking)\n",
    "print(book.memo)\n",
    "book.check_page()"
   ]
  },
  {
   "cell_type": "code",
   "execution_count": null,
   "id": "33abaf5d",
   "metadata": {},
   "outputs": [],
   "source": []
  }
 ],
 "metadata": {
  "kernelspec": {
   "display_name": "Python 3 (ipykernel)",
   "language": "python",
   "name": "python3"
  },
  "language_info": {
   "codemirror_mode": {
    "name": "ipython",
    "version": 3
   },
   "file_extension": ".py",
   "mimetype": "text/x-python",
   "name": "python",
   "nbconvert_exporter": "python",
   "pygments_lexer": "ipython3",
   "version": "3.9.7"
  }
 },
 "nbformat": 4,
 "nbformat_minor": 5
}
